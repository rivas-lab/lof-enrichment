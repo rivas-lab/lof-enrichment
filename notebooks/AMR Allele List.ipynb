{
 "cells": [
  {
   "cell_type": "markdown",
   "metadata": {},
   "source": [
    "# AMR Allele List\n",
    "\n",
    "I'd like to identify a list of exonic alleles that may be interesting to genotype\n",
    "in the AMR population. This list will include both missense and loss-of-function variants."
   ]
  },
  {
   "cell_type": "code",
   "execution_count": 1,
   "metadata": {
    "collapsed": false
   },
   "outputs": [],
   "source": [
    "import cPickle\n",
    "import os\n",
    "import subprocess\n",
    "\n",
    "import matplotlib as mpl\n",
    "\n",
    "import matplotlib.gridspec as gridspec\n",
    "import matplotlib.pyplot as plt\n",
    "import numpy as np\n",
    "import pandas as pd\n",
    "import rpy2.robjects as robjects\n",
    "from rpy2.robjects import pandas2ri\n",
    "pandas2ri.activate()\n",
    "from rpy2.robjects import r\n",
    "import scipy.stats as stats\n",
    "import seaborn as sns\n",
    "plt.rcParams['font.sans-serif'] = ['Helvetica'] + plt.rcParams['font.sans-serif']\n",
    "\n",
    "from IPython.display import display, HTML\n",
    "\n",
    "%matplotlib inline\n",
    "%load_ext rpy2.ipython\n",
    "\n",
    "outdir = '../output/amr_allele_list'\n",
    "if not os.path.exists(outdir):\n",
    "    os.makedirs(outdir)\n",
    "private_outdir = '../private_output/amr_allele_list'\n",
    "if not os.path.exists(private_outdir):\n",
    "    os.makedirs(private_outdir)"
   ]
  },
  {
   "cell_type": "code",
   "execution_count": 2,
   "metadata": {
    "collapsed": false
   },
   "outputs": [],
   "source": [
    "%%R\n",
    "\n",
    "source(\"../scripts/PIEMM.r\")"
   ]
  },
  {
   "cell_type": "code",
   "execution_count": 3,
   "metadata": {
    "collapsed": true
   },
   "outputs": [],
   "source": [
    "# Bring piemm function into python.\n",
    "piemm_fnc = robjects.r['piemm']\n",
    "\n",
    "def piemm(betas, ses, priorvar0=0.3**2, paramfix=True, var1fix=1, var2fix=1):\n",
    "    \"\"\"Wrapper around R piemm function.\"\"\"\n",
    "    res = piemm_fnc(betas, ses, paramfix=paramfix, priorvar0=priorvar0, var1fix=var1fix, var2fix=var2fix)\n",
    "    mu = pd.DataFrame(pandas2ri.ri2py(res[0]))\n",
    "    pi = pd.DataFrame(pandas2ri.ri2py(res[1]))\n",
    "    sigma = pd.DataFrame(pandas2ri.ri2py(res[2]))\n",
    "    gamma = pd.DataFrame(pandas2ri.ri2py(res[3]))\n",
    "    meansd = pd.Series(pandas2ri.ri2py(res[4]))\n",
    "    meanpi = pd.Series(pandas2ri.ri2py(res[5]))\n",
    "    meanmu = pd.Series(pandas2ri.ri2py(res[6]))\n",
    "    l95sd = pd.Series(pandas2ri.ri2py(res[7]))\n",
    "    l95pi = pd.Series(pandas2ri.ri2py(res[8]))\n",
    "    l95mu = pd.Series(pandas2ri.ri2py(res[9]))\n",
    "    u95sd = pd.Series(pandas2ri.ri2py(res[10]))\n",
    "    u95pi = pd.Series(pandas2ri.ri2py(res[11]))\n",
    "    u95mu = pd.Series(pandas2ri.ri2py(res[12]))\n",
    "\n",
    "    ires = pd.Panel({'mu':mu, 'sigma': sigma, 'pi':pi})\n",
    "    ores = pd.DataFrame({'meanmu':meanmu, 'meansd':meansd, 'meanpi':meanpi, \n",
    "                         'l95mu':l95mu, 'l95sd':l95sd, 'l95pi':l95pi,\n",
    "                         'u95mu':u95mu, 'u95sd':u95sd, 'u95pi':u95pi})\n",
    "    return ires, ores, gamma"
   ]
  },
  {
   "cell_type": "code",
   "execution_count": 4,
   "metadata": {
    "collapsed": true
   },
   "outputs": [],
   "source": [
    "def calc_summary_stats(df, popb, popa='NFE'):    \n",
    "    lofa = df['AC_{}'.format(popa)]\n",
    "    not_lofa = df['AN_{}'.format(popa)] - lofa\n",
    "    lofb = df['AC_{}'.format(popb)]\n",
    "    not_lofb = df['AN_{}'.format(popb)] - lofb\n",
    "    \n",
    "    beta = np.log(((0.5 + not_lofa) * (0.5 + lofb)) / ((0.5 + lofa) * (0.5 + not_lofb)))\n",
    "    stderr2 = 1 / (0.5 + not_lofa) + 1 / (0.5 + not_lofb) + 1 / (0.5 + lofa) + 1 / (0.5 + lofb)\n",
    "    \n",
    "    ss = pd.DataFrame({'beta':beta, 'se2':stderr2})\n",
    "    \n",
    "    return ss"
   ]
  },
  {
   "cell_type": "code",
   "execution_count": 5,
   "metadata": {
    "collapsed": true
   },
   "outputs": [],
   "source": [
    "fn = '/srv/gsfs0/projects/rivas/data/gencode.v19_20170302/parsing/gencode.v19.annotation.table.tsv'\n",
    "gtable = pd.read_table(fn, index_col=0)\n",
    "gtable['gencode_id'] = gtable.index\n",
    "gtable.index = [x.split('.')[0] for x in gtable.index]"
   ]
  },
  {
   "cell_type": "code",
   "execution_count": 6,
   "metadata": {
    "collapsed": true
   },
   "outputs": [],
   "source": [
    "# Make file with missense and LoF alleles.\n",
    "fn = os.path.join(outdir, 'missense_lof.tsv')\n",
    "if not os.path.exists(fn):\n",
    "    table = '/srv/gsfs0/projects/rivas/data/gnomad_170228_20170228/parsing/gnomad.exomes.r2.0.1.sites.tsv'\n",
    "    c = 'awk \\'{{if (($22 == \"missense_variant\") || ($29 != \"NA\"))  print}}\\' {} > {}'.format(table, fn)\n",
    "    subprocess.check_call(c, shell=True)\n",
    "vrs = pd.read_table(fn,\n",
    "                    dtype={'CHROM':str, 'POS':int, 'REF':str, 'ALT':str, 'AC_AFR':int, 'AC_AMR':int, \n",
    "                           'AC_ASJ':int, 'AC_EAS':int, 'AC_FIN':int, 'AC_NFE':int, 'AC_OTH':int, \n",
    "                           'AC_SAS':int, 'AN_AFR':int, 'AN_AMR':int, 'AN_ASJ':int, 'AN_EAS':int, \n",
    "                           'AN_FIN':int, 'AN_NFE':int, 'AN_OTH':int, 'AN_SAS':int, 'Allele':str,\n",
    "                           'Consequence':str, 'IMPACT':str, 'Gene':str, 'BIOTYPE':str, 'SIFT':str, \n",
    "                           'PolyPhen':str, 'CLIN_SIG':str, 'LoF':str, 'LoF_filter':str, \n",
    "                           'LoF_flags':str, 'LoF_info':str})\n",
    "\n",
    "pops = [x.split('_')[1] for x in vrs.columns if 'AC_' in x]\n",
    "for pop in pops:\n",
    "    vrs['AF_{}'.format(pop)] = vrs['AC_{}'.format(pop)].astype(float) / vrs['AN_{}'.format(pop)]"
   ]
  },
  {
   "cell_type": "code",
   "execution_count": 7,
   "metadata": {
    "collapsed": true
   },
   "outputs": [],
   "source": [
    "# Maximum number of chromosomes genotyped per population.\n",
    "pop_max = vrs[['AN_{}'.format(x) for x in pops]].max()\n",
    "pop_max.index = [x.split('_')[1] for x in pop_max.index]"
   ]
  },
  {
   "cell_type": "code",
   "execution_count": 8,
   "metadata": {
    "collapsed": false
   },
   "outputs": [],
   "source": [
    "pops = [x.split('_')[1] for x in vrs.columns if 'AC_' in x]\n",
    "for pop in pops:\n",
    "    vrs['AF_{}'.format(pop)] = vrs['AC_{}'.format(pop)].astype(float) / vrs['AN_{}'.format(pop)]\n",
    "    \n",
    "for pop in pops:\n",
    "    vrs['GP_{}'.format(pop)] = vrs['AN_{}'.format(pop)].astype(float) / pop_max[pop]"
   ]
  },
  {
   "cell_type": "markdown",
   "metadata": {},
   "source": [
    "## Allele Enrichment \n",
    "\n",
    "For this purpose, I am going to include both LoF and missense variants. I will filter the LoF\n",
    "variants as I describe below.\n",
    "\n",
    "### Model\n",
    "\n",
    "I'm going to calculate effect sizes and standard errors using the methods from http://biorxiv.org/lookup/doi/10.1101/077180. In particular, we can calculate\n",
    "a bias-corrected log odds ratio and squared standard error as\n",
    "\n",
    "$$\\hat\\beta_i = \\log(\\textrm{OR}_i) = \\log\\left(\\frac{(0.5 + \\textrm{LoF}_{a})(0.5 + \\textrm{notLoF}_{b})}\n",
    "{(0.5 + \\textrm{notLoF}_{a})(0.5 + \\textrm{LoF}_{b})}\\right)$$\n",
    "\n",
    "$$\\hat{\\textrm{SE}_i}^2 = \\frac{1}{0.5 + \\textrm{LoF}_{a}} + \\frac{1}{0.5 + \\textrm{LoF}_{b}}\n",
    "+ \\frac{1}{0.5 + \\textrm{notLoF}_{a}} + \\frac{1}{0.5 + \\textrm{notLoF}_{b}}\n",
    "$$\n",
    "\n",
    "for a gene $i$ and two population groups $a$ and $b$. I will compare the AMR to the NFE.\n",
    "\n",
    "For the LoF counts, I will sum the number of LoF alleles observed for each gene. So if a gene has\n",
    "one variant site that is LoF but that allele was observed 10 times, that gene will have a count of 10.\n",
    "Similarly, a gene with 10 LoF sites that are each observed once would also have a count of 10. We are \n",
    "assuming that a single person doesn't harbor two LoF variants which should be reasonable if they have\n",
    "a low frequency.\n",
    "\n",
    "### LoF variant filtering\n",
    "\n",
    "I will filter out LoF variants that \n",
    "\n",
    "* weren't genotyped in at least 80% of the subjects for all populations\n",
    "* were assigned to more than one gene\n",
    "* have an allele frequency greater than 5% in any population\n",
    "* are low confidence"
   ]
  },
  {
   "cell_type": "code",
   "execution_count": 9,
   "metadata": {
    "collapsed": false
   },
   "outputs": [
    {
     "name": "stdout",
     "output_type": "stream",
     "text": [
      "88.4% of variants genotyped at >80% for AFR.\n",
      "88.2% of variants genotyped at >80% for AMR.\n",
      "93.2% of variants genotyped at >80% for ASJ.\n",
      "88.7% of variants genotyped at >80% for EAS.\n",
      "87.4% of variants genotyped at >80% for FIN.\n",
      "88.2% of variants genotyped at >80% for NFE.\n",
      "88.4% of variants genotyped at >80% for OTH.\n",
      "88.3% of variants genotyped at >80% for SAS.\n"
     ]
    }
   ],
   "source": [
    "for pop in pops:\n",
    "    print('{:.1f}% of variants genotyped at >80% for {}.'.format(\n",
    "            (vrs['GP_{}'.format(pop)] > 0.80).sum() / float(vrs.shape[0]) * 100, \n",
    "            pop))"
   ]
  },
  {
   "cell_type": "code",
   "execution_count": 10,
   "metadata": {
    "collapsed": false
   },
   "outputs": [],
   "source": [
    "# Remove sites that weren't called for at least 80% of haplotypes in all populations.\n",
    "cols = [x for x in vrs.columns if 'GP_' in x]\n",
    "m = vrs[cols].min(axis=1)\n",
    "vrs_f = vrs[m > 0.8]\n",
    "# Remove sites that are assigned to more than one gene.\n",
    "vrs_f = vrs_f[vrs_f.Gene.apply(lambda x: ',' not in x)]\n",
    "# # Remove sites that have an allele frequency greater than 5% in any population.\n",
    "# vrs_f = vrs_f[vrs_f[[x for x in vrs_f.columns if 'AF_' in x]].max(axis=1) < 0.05]\n",
    "# # Keep only high confidence sites.\n",
    "# vrs_f = vrs_f[vrs_f.LoF == 'HC']"
   ]
  },
  {
   "cell_type": "code",
   "execution_count": 11,
   "metadata": {
    "collapsed": false
   },
   "outputs": [
    {
     "data": {
      "text/plain": [
       "68.84"
      ]
     },
     "execution_count": 11,
     "metadata": {},
     "output_type": "execute_result"
    }
   ],
   "source": [
    "17210 * 2 * 2 / 1000."
   ]
  },
  {
   "cell_type": "code",
   "execution_count": 12,
   "metadata": {
    "collapsed": false
   },
   "outputs": [],
   "source": [
    "# For missense\n",
    "keep = list(vrs_f[(vrs_f.LoF.isnull()) & (vrs_f['AF_AMR'] > 2. / 1000)].index)\n",
    "keep += list(vrs_f[(vrs_f.LoF.isnull() == False) & (vrs_f['AF_AMR'] > 2. / 10000)].index)\n",
    "vrs_f = vrs_f.ix[keep]"
   ]
  },
  {
   "cell_type": "raw",
   "metadata": {
    "collapsed": false
   },
   "source": [
    "# For missense\n",
    "vrs_f = vrs_f[vrs_f['AF_AMR'] > 2. / 10000]"
   ]
  },
  {
   "cell_type": "code",
   "execution_count": 13,
   "metadata": {
    "collapsed": false
   },
   "outputs": [],
   "source": [
    "summary_stats = {}\n",
    "tpops = ['AMR']\n",
    "for pop in tpops:\n",
    "    summary_stats[pop] = beta, stderr2 = calc_summary_stats(vrs_f, pop)\n",
    "    \n",
    "for pop in tpops:\n",
    "    summary_stats[pop].to_csv(os.path.join(outdir, '{}_ss.tsv'.format(pop)), sep='\\t')"
   ]
  },
  {
   "cell_type": "markdown",
   "metadata": {},
   "source": [
    "### Run model"
   ]
  },
  {
   "cell_type": "code",
   "execution_count": 14,
   "metadata": {
    "collapsed": true
   },
   "outputs": [],
   "source": [
    "# piemm_res_default = {}\n",
    "# for pop in tpops:\n",
    "#     betas = summary_stats[pop]['beta']\n",
    "#     ses = np.sqrt(summary_stats[pop]['se2'])\n",
    "#     ires, ores, gamma = piemm(betas, ses)\n",
    "#     piemm_res_default[pop] = [ires, ores, gamma]\n",
    "    \n",
    "# piemm_res_var05 = {}\n",
    "# for pop in tpops:\n",
    "#     betas = summary_stats[pop]['beta']\n",
    "#     ses = np.sqrt(summary_stats[pop]['se2'])\n",
    "#     ires, ores, gamma = piemm(betas, ses, var1fix=0.5, var2fix=0.5)\n",
    "#     piemm_res_var05[pop] = [ires, ores, gamma]\n",
    "    \n",
    "# piemm_res_var025 = {}\n",
    "# for pop in tpops:\n",
    "#     betas = summary_stats[pop]['beta']\n",
    "#     ses = np.sqrt(summary_stats[pop]['se2'])\n",
    "#     ires, ores, gamma = piemm(betas, ses, var1fix=0.25, var2fix=0.25)\n",
    "#     piemm_res_var025[pop] = [ires, ores, gamma]\n",
    "    \n",
    "# piemm_res_notfix = {}\n",
    "# for pop in tpops:\n",
    "#     betas = summary_stats[pop]['beta']\n",
    "#     ses = np.sqrt(summary_stats[pop]['se2'])\n",
    "#     ires, ores, gamma = piemm(betas, ses, paramfix=False)\n",
    "#     piemm_res_notfix[pop] = [ires, ores, gamma]\n",
    "    \n",
    "fn = os.path.join(outdir, 'piemm_res_01_05_05.pickle')\n",
    "if os.path.exists(fn):\n",
    "    piemm_res_01_05_05 = cPickle.load(open(fn))\n",
    "else:\n",
    "    piemm_res_01_05_05 = {}\n",
    "    for pop in tpops:\n",
    "        betas = summary_stats[pop]['beta']\n",
    "        ses = np.sqrt(summary_stats[pop]['se2'])\n",
    "        ires, ores, gamma = piemm(betas, ses, priorvar0=0.1**2, var1fix=0.05**2, var2fix=0.05**2)\n",
    "        gamma.index = betas.index\n",
    "        gamma = gamma / gamma.sum(axis=1).iloc[0]\n",
    "        piemm_res_01_05_05[pop] = [ires, ores, gamma]\n",
    "        with open(fn, 'w') as f:\n",
    "            cPickle.dump(piemm_res_01_05_05, f)\n",
    "    \n",
    "# piemm_res_02_05_05 = {}\n",
    "# for pop in tpops:\n",
    "#     betas = summary_stats[pop]['beta']\n",
    "#     ses = np.sqrt(summary_stats[pop]['se2'])\n",
    "#     ires, ores, gamma = piemm(betas, ses, priorvar0=0.2**2, var1fix=0.05**2, var2fix=0.05**2)\n",
    "#     gamma.index = betas.index\n",
    "#     gamma = gamma / gamma.sum(axis=1).ix[0]\n",
    "#     piemm_res_02_05_05[pop] = [ires, ores, gamma]\n",
    "    \n",
    "# piemm_res_03_05_05 = {}\n",
    "# for pop in tpops:\n",
    "#     betas = summary_stats[pop]['beta']\n",
    "#     ses = np.sqrt(summary_stats[pop]['se2'])\n",
    "#     ires, ores, gamma = piemm(betas, ses, priorvar0=0.3**2, var1fix=0.05**2, var2fix=0.05**2)\n",
    "#     gamma.index = betas.index\n",
    "#     gamma = gamma / gamma.sum(axis=1).ix[0]\n",
    "#     piemm_res_03_05_05[pop] = [ires, ores, gamma]"
   ]
  },
  {
   "cell_type": "code",
   "execution_count": 15,
   "metadata": {
    "collapsed": false
   },
   "outputs": [],
   "source": [
    "def plot_norms(mus, sigmas, ax=None, percent=0.99):\n",
    "    mus = list(mus)\n",
    "    sigmas = list(sigmas)\n",
    "    # Define max and min.\n",
    "    xmax = max([stats.norm.ppf(percent, mus[i], sigmas[i]) for i in range(len(mus))] + \n",
    "               [abs(stats.norm.ppf(1 - percent, mus[i], sigmas[i])) for i in range(len(mus))])\n",
    "    xmin = -xmax\n",
    "    x = np.linspace(xmin, xmax, 100)\n",
    "    if ax is None:\n",
    "        fig, ax = plt.subplots(1)\n",
    "    for i in range(len(mus)):\n",
    "        ax.plot(x, stats.norm.pdf(x, mus[i], sigmas[i]), label=i)\n",
    "    ax.legend()\n",
    "    ax.set_xlabel('Beta')\n",
    "    ax.set_ylabel('Density')\n",
    "    ax.set_title('Group distributions')\n",
    "\n",
    "def visualize_piemm_res(pop, piemm_res, summary_stats):\n",
    "    display(HTML('<h4>Results for {}</h4>'.format(pop)))\n",
    "    ires, ores, gamma = piemm_res[pop]\n",
    "    sum_stats = summary_stats[pop]\n",
    "    fig, axs = plt.subplots(6, 2, figsize=(10, 15))\n",
    "    display(ores)\n",
    "    \n",
    "    plot_num = 0\n",
    "    ax = axs[plot_num / 2, plot_num % 2]\n",
    "    \n",
    "    ax.scatter(range(3), ores.meanmu)\n",
    "    for i in range(3):\n",
    "        ax.vlines(i, ores.ix[i, 'l95mu'], ores.ix[i, 'u95mu'])\n",
    "    ax.set_xticks([0, 1, 2])\n",
    "    ax.set_xlabel('Group')\n",
    "    ax.set_ylabel('Posterior estimate')\n",
    "    ax.set_title('$\\mu$')\n",
    "    \n",
    "    plot_num += 1\n",
    "    ax = axs[plot_num / 2, plot_num % 2]\n",
    "    \n",
    "    ax.scatter(range(3), ores.meansd)\n",
    "    for i in range(3):\n",
    "        ax.vlines(i, ores.ix[i, 'l95sd'], ores.ix[i, 'u95sd'])\n",
    "    ax.set_xticks([0, 1, 2])\n",
    "    ax.set_xlabel('Group')\n",
    "    ax.set_ylabel('Posterior estimate')\n",
    "    ax.set_title('$\\sigma$')\n",
    "    \n",
    "    plot_num += 1\n",
    "    ax = axs[plot_num / 2, plot_num % 2]\n",
    "    \n",
    "    ax.scatter(range(3), ores.meanpi)\n",
    "    for i in range(3):\n",
    "        ax.vlines(i, ores.ix[i, 'l95pi'], ores.ix[i, 'u95pi'])\n",
    "    ax.set_xticks([0, 1, 2])\n",
    "    ax.set_xlabel('Group')\n",
    "    ax.set_ylabel('Posterior estimate')\n",
    "    ax.set_title('$\\pi$')\n",
    "    \n",
    "    plot_num += 1\n",
    "    ax = axs[plot_num / 2, plot_num % 2]\n",
    "    \n",
    "    ires['mu'].plot(ax=ax)\n",
    "    ax.set_xlabel('Iterations')\n",
    "    ax.set_ylabel('$\\mu$')\n",
    "    ax.set_title('$\\mu$ vs. iterations')\n",
    "    \n",
    "    plot_num += 1\n",
    "    ax = axs[plot_num / 2, plot_num % 2]\n",
    "    \n",
    "    ires['sigma'].plot(ax=ax)\n",
    "    ax.set_xlabel('Iterations')\n",
    "    ax.set_ylabel('$\\sigma$')\n",
    "    ax.set_title('$\\sigma$ vs. iterations')\n",
    "    \n",
    "    plot_num += 1\n",
    "    ax = axs[plot_num / 2, plot_num % 2]\n",
    "    \n",
    "    ires['pi'].plot(ax=ax)\n",
    "    ax.set_xlabel('Iterations')\n",
    "    ax.set_ylabel('$\\pi$')\n",
    "    ax.set_title('$\\pi$ vs. iterations')\n",
    "    \n",
    "    plot_num += 1\n",
    "    ax = axs[plot_num / 2, plot_num % 2]\n",
    "    \n",
    "    plot_norms(ores.meanmu, ores.meansd, ax=ax)\n",
    "    \n",
    "    plot_num += 1\n",
    "    ax = axs[plot_num / 2, plot_num % 2]\n",
    "    \n",
    "    sum_stats['group'] = gamma.idxmax(axis=1).values\n",
    "    xmax = np.ceil(sum_stats.beta.abs().max())\n",
    "    xmin = -xmax\n",
    "    step = (xmax - xmin) / 100.\n",
    "    toplot = []\n",
    "    for i in [2, 0, 1]:\n",
    "        toplot.append(sum_stats.ix[sum_stats.group == i, 'beta'].values)\n",
    "    ax.hist(toplot, stacked=True, bins=np.arange(xmin, xmax + step, step), label=[2, 0, 1], \n",
    "            color=[sns.color_palette()[2], sns.color_palette()[0], sns.color_palette()[1]])\n",
    "    ax.set_xlabel('Beta')\n",
    "    ax.set_ylabel('Frequency')\n",
    "    ax.set_title('Distribution of betas stratified by group membership')\n",
    "    ax.legend()\n",
    "    \n",
    "    plot_num += 1\n",
    "    ax = axs[plot_num / 2, plot_num % 2]\n",
    "    \n",
    "    i = 2\n",
    "    tpi = {0:1, 2:0, 1:2}[i]\n",
    "    mu = ores.ix[i, 'meanmu']\n",
    "    sigma = ores.ix[i, 'meansd']\n",
    "    xmin = stats.norm.ppf(1 - 0.99, mu, sigma)\n",
    "    xmax = stats.norm.ppf(0.99, mu, sigma)\n",
    "    x = np.linspace(xmin, xmax, 100)\n",
    "    step = (xmax - xmin) / 100.\n",
    "    ax.hist(toplot[tpi], bins=np.arange(xmin, xmax + step, step), normed=True);\n",
    "    ax.plot(x, stats.norm.pdf(x, mu, sigma))\n",
    "    ax.set_xlabel('Beta')\n",
    "    ax.set_ylabel('Density')\n",
    "    ax.set_title('Group {}'.format(i))\n",
    "    \n",
    "    plot_num += 1\n",
    "    ax = axs[plot_num / 2, plot_num % 2]\n",
    "    \n",
    "    i = 0\n",
    "    tpi = {0:1, 2:0, 1:2}[i]\n",
    "    mu = ores.ix[i, 'meanmu']\n",
    "    sigma = ores.ix[i, 'meansd']\n",
    "    xmin = stats.norm.ppf(1 - 0.99, mu, sigma)\n",
    "    xmax = stats.norm.ppf(0.99, mu, sigma)\n",
    "    x = np.linspace(xmin, xmax, 100)\n",
    "    step = (xmax - xmin) / 100.\n",
    "    ax.hist(toplot[tpi], bins=np.arange(xmin, xmax + step, step), normed=True);\n",
    "    ax.plot(x, stats.norm.pdf(x, mu, sigma))\n",
    "    ax.set_xlabel('Beta')\n",
    "    ax.set_ylabel('Density')\n",
    "    ax.set_title('Group {}'.format(i))\n",
    "    \n",
    "    plot_num += 1\n",
    "    ax = axs[plot_num / 2, plot_num % 2]\n",
    "    \n",
    "    i = 1\n",
    "    tpi = {0:1, 2:0, 1:2}[i]\n",
    "    mu = ores.ix[i, 'meanmu']\n",
    "    sigma = ores.ix[i, 'meansd']\n",
    "    xmin = stats.norm.ppf(1 - 0.99, mu, sigma)\n",
    "    xmax = stats.norm.ppf(0.99, mu, sigma)\n",
    "    x = np.linspace(xmin, xmax, 100)\n",
    "    step = (xmax - xmin) / 100.\n",
    "    ax.hist(toplot[tpi], bins=np.arange(xmin, xmax + step, step), normed=True);\n",
    "    ax.plot(x, stats.norm.pdf(x, mu, sigma))\n",
    "    ax.set_xlabel('Beta')\n",
    "    ax.set_ylabel('Density')\n",
    "    ax.set_title('Group {}'.format(i))\n",
    "    \n",
    "    plt.tight_layout()\n",
    "    plt.show();"
   ]
  },
  {
   "cell_type": "markdown",
   "metadata": {},
   "source": [
    "## Results"
   ]
  },
  {
   "cell_type": "markdown",
   "metadata": {},
   "source": [
    "### var0 = $0.1^2$, var1 = var2 = $0.05^2$"
   ]
  },
  {
   "cell_type": "code",
   "execution_count": 17,
   "metadata": {
    "collapsed": false
   },
   "outputs": [
    {
     "data": {
      "text/html": [
       "<h4>Results for AMR</h4>"
      ],
      "text/plain": [
       "<IPython.core.display.HTML object>"
      ]
     },
     "metadata": {},
     "output_type": "display_data"
    },
    {
     "data": {
      "text/html": [
       "<div>\n",
       "<table border=\"1\" class=\"dataframe\">\n",
       "  <thead>\n",
       "    <tr style=\"text-align: right;\">\n",
       "      <th></th>\n",
       "      <th>l95mu</th>\n",
       "      <th>l95pi</th>\n",
       "      <th>l95sd</th>\n",
       "      <th>meanmu</th>\n",
       "      <th>meanpi</th>\n",
       "      <th>meansd</th>\n",
       "      <th>u95mu</th>\n",
       "      <th>u95pi</th>\n",
       "      <th>u95sd</th>\n",
       "    </tr>\n",
       "  </thead>\n",
       "  <tbody>\n",
       "    <tr>\n",
       "      <th>0</th>\n",
       "      <td>0.000000</td>\n",
       "      <td>0.474995</td>\n",
       "      <td>0.10</td>\n",
       "      <td>0.000000</td>\n",
       "      <td>0.478893</td>\n",
       "      <td>0.10</td>\n",
       "      <td>0.000000</td>\n",
       "      <td>0.483234</td>\n",
       "      <td>0.10</td>\n",
       "    </tr>\n",
       "    <tr>\n",
       "      <th>1</th>\n",
       "      <td>4.223619</td>\n",
       "      <td>0.293850</td>\n",
       "      <td>0.05</td>\n",
       "      <td>4.225813</td>\n",
       "      <td>0.297394</td>\n",
       "      <td>0.05</td>\n",
       "      <td>4.227819</td>\n",
       "      <td>0.301018</td>\n",
       "      <td>0.05</td>\n",
       "    </tr>\n",
       "    <tr>\n",
       "      <th>2</th>\n",
       "      <td>-1.132188</td>\n",
       "      <td>0.221179</td>\n",
       "      <td>0.05</td>\n",
       "      <td>-1.130022</td>\n",
       "      <td>0.223713</td>\n",
       "      <td>0.05</td>\n",
       "      <td>-1.127495</td>\n",
       "      <td>0.226787</td>\n",
       "      <td>0.05</td>\n",
       "    </tr>\n",
       "  </tbody>\n",
       "</table>\n",
       "</div>"
      ],
      "text/plain": [
       "      l95mu     l95pi  l95sd    meanmu    meanpi  meansd     u95mu     u95pi  \\\n",
       "0  0.000000  0.474995   0.10  0.000000  0.478893    0.10  0.000000  0.483234   \n",
       "1  4.223619  0.293850   0.05  4.225813  0.297394    0.05  4.227819  0.301018   \n",
       "2 -1.132188  0.221179   0.05 -1.130022  0.223713    0.05 -1.127495  0.226787   \n",
       "\n",
       "   u95sd  \n",
       "0   0.10  \n",
       "1   0.05  \n",
       "2   0.05  "
      ]
     },
     "metadata": {},
     "output_type": "display_data"
    },
    {
     "data": {
      "image/png": "[encoded data removed]",
      "text/plain": [
       "<matplotlib.figure.Figure at 0x2b5fdea4ded0>"
      ]
     },
     "metadata": {},
     "output_type": "display_data"
    }
   ],
   "source": [
    "for pop in tpops:\n",
    "    visualize_piemm_res(pop, piemm_res_01_05_05, summary_stats)"
   ]
  },
  {
   "cell_type": "code",
   "execution_count": 24,
   "metadata": {
    "collapsed": false
   },
   "outputs": [],
   "source": [
    "ires, ores, gamma = piemm_res_01_05_05['AMR']\n",
    "ss = summary_stats['AMR'].sort_values(by='beta', ascending=False)\n",
    "enriched = list(gamma[gamma[1] == 1].index)"
   ]
  },
  {
   "cell_type": "code",
   "execution_count": 66,
   "metadata": {
    "collapsed": false
   },
   "outputs": [
    {
     "data": {
      "text/html": [
       "<div>\n",
       "<table border=\"1\" class=\"dataframe\">\n",
       "  <thead>\n",
       "    <tr style=\"text-align: right;\">\n",
       "      <th></th>\n",
       "      <th>beta</th>\n",
       "      <th>se2</th>\n",
       "      <th>group</th>\n",
       "    </tr>\n",
       "  </thead>\n",
       "  <tbody>\n",
       "    <tr>\n",
       "      <th>3959143</th>\n",
       "      <td>6.001704</td>\n",
       "      <td>0.183372</td>\n",
       "      <td>1</td>\n",
       "    </tr>\n",
       "    <tr>\n",
       "      <th>3934571</th>\n",
       "      <td>6.002367</td>\n",
       "      <td>0.036729</td>\n",
       "      <td>1</td>\n",
       "    </tr>\n",
       "    <tr>\n",
       "      <th>2411445</th>\n",
       "      <td>6.003199</td>\n",
       "      <td>0.288132</td>\n",
       "      <td>1</td>\n",
       "    </tr>\n",
       "    <tr>\n",
       "      <th>5147812</th>\n",
       "      <td>6.003297</td>\n",
       "      <td>0.672185</td>\n",
       "      <td>1</td>\n",
       "    </tr>\n",
       "    <tr>\n",
       "      <th>1871040</th>\n",
       "      <td>6.003687</td>\n",
       "      <td>2.015309</td>\n",
       "      <td>1</td>\n",
       "    </tr>\n",
       "  </tbody>\n",
       "</table>\n",
       "</div>"
      ],
      "text/plain": [
       "             beta       se2  group\n",
       "3959143  6.001704  0.183372      1\n",
       "3934571  6.002367  0.036729      1\n",
       "2411445  6.003199  0.288132      1\n",
       "5147812  6.003297  0.672185      1\n",
       "1871040  6.003687  2.015309      1"
      ]
     },
     "execution_count": 66,
     "metadata": {},
     "output_type": "execute_result"
    }
   ],
   "source": [
    "ss[ss.beta > 6].sort_values(by='beta').head()"
   ]
  },
  {
   "cell_type": "code",
   "execution_count": 64,
   "metadata": {
    "collapsed": false
   },
   "outputs": [
    {
     "data": {
      "text/html": [
       "<div>\n",
       "<table border=\"1\" class=\"dataframe\">\n",
       "  <thead>\n",
       "    <tr style=\"text-align: right;\">\n",
       "      <th></th>\n",
       "      <th>AC_AMR</th>\n",
       "      <th>AC_NFE</th>\n",
       "    </tr>\n",
       "  </thead>\n",
       "  <tbody>\n",
       "    <tr>\n",
       "      <th>3959143</th>\n",
       "      <td>660</td>\n",
       "      <td>5</td>\n",
       "    </tr>\n",
       "    <tr>\n",
       "      <th>3934571</th>\n",
       "      <td>3089</td>\n",
       "      <td>27</td>\n",
       "    </tr>\n",
       "    <tr>\n",
       "      <th>2411445</th>\n",
       "      <td>420</td>\n",
       "      <td>3</td>\n",
       "    </tr>\n",
       "    <tr>\n",
       "      <th>5147812</th>\n",
       "      <td>182</td>\n",
       "      <td>1</td>\n",
       "    </tr>\n",
       "    <tr>\n",
       "      <th>1871040</th>\n",
       "      <td>65</td>\n",
       "      <td>0</td>\n",
       "    </tr>\n",
       "  </tbody>\n",
       "</table>\n",
       "</div>"
      ],
      "text/plain": [
       "         AC_AMR  AC_NFE\n",
       "3959143     660       5\n",
       "3934571    3089      27\n",
       "2411445     420       3\n",
       "5147812     182       1\n",
       "1871040      65       0"
      ]
     },
     "execution_count": 64,
     "metadata": {},
     "output_type": "execute_result"
    }
   ],
   "source": [
    "vrs_f.ix[ss[ss.beta > 6].sort_values(by='beta').head().index, ['AC_AMR', 'AC_NFE']]"
   ]
  },
  {
   "cell_type": "code",
   "execution_count": 74,
   "metadata": {
    "collapsed": false
   },
   "outputs": [
    {
     "data": {
      "image/png": "[encoded data removed]",
      "text/plain": [
       "<matplotlib.figure.Figure at 0x2b601e749350>"
      ]
     },
     "metadata": {},
     "output_type": "display_data"
    }
   ],
   "source": [
    "ss.beta.hist(bins=np.arange(-10, 10.1, 0.1))\n",
    "ymin, ymax = plt.ylim()\n",
    "plt.vlines(6, ymin, ymax, alpha=0.5)\n",
    "plt.ylim(ymin, ymax);"
   ]
  },
  {
   "cell_type": "code",
   "execution_count": 25,
   "metadata": {
    "collapsed": false
   },
   "outputs": [],
   "source": [
    "tdf = gamma.copy(deep=True)\n",
    "tdf.columns = ['group_{}'.format(x) for x in tdf.columns]\n",
    "vrs_f = vrs_f.join(tdf)\n",
    "vrs_f = vrs_f.join(summary_stats['AMR'])"
   ]
  },
  {
   "cell_type": "code",
   "execution_count": 32,
   "metadata": {
    "collapsed": false
   },
   "outputs": [
    {
     "data": {
      "image/png": "[encoded data removed]",
      "text/plain": [
       "<matplotlib.figure.Figure at 0x2b60130ff110>"
      ]
     },
     "metadata": {},
     "output_type": "display_data"
    }
   ],
   "source": [
    "xmax = np.ceil(vrs_f.beta.abs().max())\n",
    "xmin = -xmax\n",
    "\n",
    "fig, axs = plt.subplots(2, 1)\n",
    "vrs_f.ix[vrs_f.LoF.isnull(), 'beta'].hist(bins=np.linspace(xmin, xmax, 100), ax=axs[0]);\n",
    "axs[0].set_title('Missense')\n",
    "axs[0].set_ylabel('Number of variants')\n",
    "vrs_f.ix[vrs_f.LoF.isnull() == False, 'beta'].hist(bins=np.linspace(xmin, xmax, 100), ax=axs[1])\n",
    "axs[1].set_title('LoF')\n",
    "axs[1].set_ylabel('Number of variants')\n",
    "axs[1].set_xlabel('Beta')\n",
    "plt.tight_layout();"
   ]
  },
  {
   "cell_type": "code",
   "execution_count": 27,
   "metadata": {
    "collapsed": false
   },
   "outputs": [
    {
     "data": {
      "text/html": [
       "<div>\n",
       "<table border=\"1\" class=\"dataframe\">\n",
       "  <thead>\n",
       "    <tr style=\"text-align: right;\">\n",
       "      <th></th>\n",
       "      <th>AC_AMR</th>\n",
       "      <th>AC_NFE</th>\n",
       "    </tr>\n",
       "  </thead>\n",
       "  <tbody>\n",
       "    <tr>\n",
       "      <th>1291</th>\n",
       "      <td>207</td>\n",
       "      <td>2</td>\n",
       "    </tr>\n",
       "    <tr>\n",
       "      <th>3306</th>\n",
       "      <td>203</td>\n",
       "      <td>0</td>\n",
       "    </tr>\n",
       "    <tr>\n",
       "      <th>4327</th>\n",
       "      <td>2703</td>\n",
       "      <td>50</td>\n",
       "    </tr>\n",
       "    <tr>\n",
       "      <th>6375</th>\n",
       "      <td>84</td>\n",
       "      <td>0</td>\n",
       "    </tr>\n",
       "    <tr>\n",
       "      <th>6418</th>\n",
       "      <td>147</td>\n",
       "      <td>0</td>\n",
       "    </tr>\n",
       "    <tr>\n",
       "      <th>8608</th>\n",
       "      <td>72</td>\n",
       "      <td>0</td>\n",
       "    </tr>\n",
       "    <tr>\n",
       "      <th>17810</th>\n",
       "      <td>447</td>\n",
       "      <td>0</td>\n",
       "    </tr>\n",
       "    <tr>\n",
       "      <th>18153</th>\n",
       "      <td>91</td>\n",
       "      <td>1</td>\n",
       "    </tr>\n",
       "    <tr>\n",
       "      <th>18465</th>\n",
       "      <td>1110</td>\n",
       "      <td>2</td>\n",
       "    </tr>\n",
       "    <tr>\n",
       "      <th>18787</th>\n",
       "      <td>84</td>\n",
       "      <td>0</td>\n",
       "    </tr>\n",
       "    <tr>\n",
       "      <th>20292</th>\n",
       "      <td>104</td>\n",
       "      <td>0</td>\n",
       "    </tr>\n",
       "    <tr>\n",
       "      <th>20443</th>\n",
       "      <td>435</td>\n",
       "      <td>0</td>\n",
       "    </tr>\n",
       "    <tr>\n",
       "      <th>21168</th>\n",
       "      <td>673</td>\n",
       "      <td>2</td>\n",
       "    </tr>\n",
       "    <tr>\n",
       "      <th>22387</th>\n",
       "      <td>168</td>\n",
       "      <td>0</td>\n",
       "    </tr>\n",
       "    <tr>\n",
       "      <th>23716</th>\n",
       "      <td>81</td>\n",
       "      <td>0</td>\n",
       "    </tr>\n",
       "    <tr>\n",
       "      <th>23998</th>\n",
       "      <td>69</td>\n",
       "      <td>1</td>\n",
       "    </tr>\n",
       "    <tr>\n",
       "      <th>24578</th>\n",
       "      <td>4466</td>\n",
       "      <td>56</td>\n",
       "    </tr>\n",
       "    <tr>\n",
       "      <th>24618</th>\n",
       "      <td>4461</td>\n",
       "      <td>56</td>\n",
       "    </tr>\n",
       "    <tr>\n",
       "      <th>24747</th>\n",
       "      <td>1114</td>\n",
       "      <td>11</td>\n",
       "    </tr>\n",
       "    <tr>\n",
       "      <th>27991</th>\n",
       "      <td>160</td>\n",
       "      <td>0</td>\n",
       "    </tr>\n",
       "    <tr>\n",
       "      <th>30307</th>\n",
       "      <td>248</td>\n",
       "      <td>0</td>\n",
       "    </tr>\n",
       "    <tr>\n",
       "      <th>31607</th>\n",
       "      <td>89</td>\n",
       "      <td>0</td>\n",
       "    </tr>\n",
       "    <tr>\n",
       "      <th>32030</th>\n",
       "      <td>135</td>\n",
       "      <td>0</td>\n",
       "    </tr>\n",
       "    <tr>\n",
       "      <th>35035</th>\n",
       "      <td>133</td>\n",
       "      <td>0</td>\n",
       "    </tr>\n",
       "    <tr>\n",
       "      <th>35380</th>\n",
       "      <td>1226</td>\n",
       "      <td>6</td>\n",
       "    </tr>\n",
       "    <tr>\n",
       "      <th>36080</th>\n",
       "      <td>735</td>\n",
       "      <td>10</td>\n",
       "    </tr>\n",
       "    <tr>\n",
       "      <th>37617</th>\n",
       "      <td>79</td>\n",
       "      <td>1</td>\n",
       "    </tr>\n",
       "    <tr>\n",
       "      <th>38201</th>\n",
       "      <td>132</td>\n",
       "      <td>0</td>\n",
       "    </tr>\n",
       "    <tr>\n",
       "      <th>38437</th>\n",
       "      <td>2015</td>\n",
       "      <td>8</td>\n",
       "    </tr>\n",
       "    <tr>\n",
       "      <th>38819</th>\n",
       "      <td>73</td>\n",
       "      <td>1</td>\n",
       "    </tr>\n",
       "    <tr>\n",
       "      <th>...</th>\n",
       "      <td>...</td>\n",
       "      <td>...</td>\n",
       "    </tr>\n",
       "    <tr>\n",
       "      <th>5285772</th>\n",
       "      <td>27</td>\n",
       "      <td>0</td>\n",
       "    </tr>\n",
       "    <tr>\n",
       "      <th>5293519</th>\n",
       "      <td>27</td>\n",
       "      <td>0</td>\n",
       "    </tr>\n",
       "    <tr>\n",
       "      <th>5297730</th>\n",
       "      <td>62</td>\n",
       "      <td>0</td>\n",
       "    </tr>\n",
       "    <tr>\n",
       "      <th>5328116</th>\n",
       "      <td>24</td>\n",
       "      <td>0</td>\n",
       "    </tr>\n",
       "    <tr>\n",
       "      <th>5328845</th>\n",
       "      <td>85</td>\n",
       "      <td>0</td>\n",
       "    </tr>\n",
       "    <tr>\n",
       "      <th>5340730</th>\n",
       "      <td>1328</td>\n",
       "      <td>1</td>\n",
       "    </tr>\n",
       "    <tr>\n",
       "      <th>5365091</th>\n",
       "      <td>22</td>\n",
       "      <td>0</td>\n",
       "    </tr>\n",
       "    <tr>\n",
       "      <th>5389570</th>\n",
       "      <td>51</td>\n",
       "      <td>0</td>\n",
       "    </tr>\n",
       "    <tr>\n",
       "      <th>5392852</th>\n",
       "      <td>111</td>\n",
       "      <td>0</td>\n",
       "    </tr>\n",
       "    <tr>\n",
       "      <th>5402663</th>\n",
       "      <td>64</td>\n",
       "      <td>0</td>\n",
       "    </tr>\n",
       "    <tr>\n",
       "      <th>5403093</th>\n",
       "      <td>45</td>\n",
       "      <td>0</td>\n",
       "    </tr>\n",
       "    <tr>\n",
       "      <th>5426353</th>\n",
       "      <td>892</td>\n",
       "      <td>10</td>\n",
       "    </tr>\n",
       "    <tr>\n",
       "      <th>5429131</th>\n",
       "      <td>24</td>\n",
       "      <td>0</td>\n",
       "    </tr>\n",
       "    <tr>\n",
       "      <th>5430961</th>\n",
       "      <td>42</td>\n",
       "      <td>0</td>\n",
       "    </tr>\n",
       "    <tr>\n",
       "      <th>5437508</th>\n",
       "      <td>255</td>\n",
       "      <td>0</td>\n",
       "    </tr>\n",
       "    <tr>\n",
       "      <th>5458442</th>\n",
       "      <td>24</td>\n",
       "      <td>0</td>\n",
       "    </tr>\n",
       "    <tr>\n",
       "      <th>5460506</th>\n",
       "      <td>40</td>\n",
       "      <td>0</td>\n",
       "    </tr>\n",
       "    <tr>\n",
       "      <th>5460979</th>\n",
       "      <td>29</td>\n",
       "      <td>0</td>\n",
       "    </tr>\n",
       "    <tr>\n",
       "      <th>5478050</th>\n",
       "      <td>28</td>\n",
       "      <td>0</td>\n",
       "    </tr>\n",
       "    <tr>\n",
       "      <th>5480367</th>\n",
       "      <td>57</td>\n",
       "      <td>0</td>\n",
       "    </tr>\n",
       "    <tr>\n",
       "      <th>5486176</th>\n",
       "      <td>304</td>\n",
       "      <td>0</td>\n",
       "    </tr>\n",
       "    <tr>\n",
       "      <th>5490330</th>\n",
       "      <td>46</td>\n",
       "      <td>0</td>\n",
       "    </tr>\n",
       "    <tr>\n",
       "      <th>5491697</th>\n",
       "      <td>32</td>\n",
       "      <td>0</td>\n",
       "    </tr>\n",
       "    <tr>\n",
       "      <th>5496812</th>\n",
       "      <td>62</td>\n",
       "      <td>0</td>\n",
       "    </tr>\n",
       "    <tr>\n",
       "      <th>5508471</th>\n",
       "      <td>15972</td>\n",
       "      <td>462</td>\n",
       "    </tr>\n",
       "    <tr>\n",
       "      <th>5521282</th>\n",
       "      <td>26</td>\n",
       "      <td>0</td>\n",
       "    </tr>\n",
       "    <tr>\n",
       "      <th>5528749</th>\n",
       "      <td>55</td>\n",
       "      <td>0</td>\n",
       "    </tr>\n",
       "    <tr>\n",
       "      <th>5537290</th>\n",
       "      <td>53</td>\n",
       "      <td>0</td>\n",
       "    </tr>\n",
       "    <tr>\n",
       "      <th>5539291</th>\n",
       "      <td>169</td>\n",
       "      <td>0</td>\n",
       "    </tr>\n",
       "    <tr>\n",
       "      <th>5546861</th>\n",
       "      <td>30</td>\n",
       "      <td>0</td>\n",
       "    </tr>\n",
       "  </tbody>\n",
       "</table>\n",
       "<p>4336 rows × 2 columns</p>\n",
       "</div>"
      ],
      "text/plain": [
       "         AC_AMR  AC_NFE\n",
       "1291        207       2\n",
       "3306        203       0\n",
       "4327       2703      50\n",
       "6375         84       0\n",
       "6418        147       0\n",
       "8608         72       0\n",
       "17810       447       0\n",
       "18153        91       1\n",
       "18465      1110       2\n",
       "18787        84       0\n",
       "20292       104       0\n",
       "20443       435       0\n",
       "21168       673       2\n",
       "22387       168       0\n",
       "23716        81       0\n",
       "23998        69       1\n",
       "24578      4466      56\n",
       "24618      4461      56\n",
       "24747      1114      11\n",
       "27991       160       0\n",
       "30307       248       0\n",
       "31607        89       0\n",
       "32030       135       0\n",
       "35035       133       0\n",
       "35380      1226       6\n",
       "36080       735      10\n",
       "37617        79       1\n",
       "38201       132       0\n",
       "38437      2015       8\n",
       "38819        73       1\n",
       "...         ...     ...\n",
       "5285772      27       0\n",
       "5293519      27       0\n",
       "5297730      62       0\n",
       "5328116      24       0\n",
       "5328845      85       0\n",
       "5340730    1328       1\n",
       "5365091      22       0\n",
       "5389570      51       0\n",
       "5392852     111       0\n",
       "5402663      64       0\n",
       "5403093      45       0\n",
       "5426353     892      10\n",
       "5429131      24       0\n",
       "5430961      42       0\n",
       "5437508     255       0\n",
       "5458442      24       0\n",
       "5460506      40       0\n",
       "5460979      29       0\n",
       "5478050      28       0\n",
       "5480367      57       0\n",
       "5486176     304       0\n",
       "5490330      46       0\n",
       "5491697      32       0\n",
       "5496812      62       0\n",
       "5508471   15972     462\n",
       "5521282      26       0\n",
       "5528749      55       0\n",
       "5537290      53       0\n",
       "5539291     169       0\n",
       "5546861      30       0\n",
       "\n",
       "[4336 rows x 2 columns]"
      ]
     },
     "execution_count": 27,
     "metadata": {},
     "output_type": "execute_result"
    }
   ],
   "source": [
    "vrs_f.ix[(vrs_f['group'] == 1) & (vrs_f['beta'] > 5), ['AC_AMR', 'AC_NFE']]"
   ]
  },
  {
   "cell_type": "code",
   "execution_count": 32,
   "metadata": {
    "collapsed": false
   },
   "outputs": [
    {
     "data": {
      "text/plain": [
       "(45382, 54)"
      ]
     },
     "execution_count": 32,
     "metadata": {},
     "output_type": "execute_result"
    }
   ],
   "source": [
    "vrs_f[vrs_f.AC_NFE >= 1].shape"
   ]
  },
  {
   "cell_type": "code",
   "execution_count": 138,
   "metadata": {
    "collapsed": true
   },
   "outputs": [],
   "source": [
    "def parse_polyphen_prediction(x):\n",
    "    # The PolyPhen column can have a single value like\n",
    "    # 'benign(0.311)'\n",
    "    # or multiple values like\n",
    "    # 'benign(0.034),benign(0.141),benign(0.01)'\n",
    "    # If there are multiple values, the prediction (benign, \n",
    "    # possibly damaging, or probably damaging) can be different.\n",
    "    # I'm going to take the most-damaging score and prediction.\n",
    "    if type(x) is str:\n",
    "        values = x.split(',')\n",
    "        predictions = [x.split('(')[0] for x in values]\n",
    "        scores = [float(x[:-1].split('(')[1]) for x in values]\n",
    "        i = np.argmax(scores)\n",
    "        return predictions[i]\n",
    "    else:\n",
    "        return np.nan\n",
    "\n",
    "def parse_polyphen_score(x):\n",
    "    # The PolyPhen column can have a single value like\n",
    "    # 'benign(0.311)'\n",
    "    # or multiple values like\n",
    "    # 'benign(0.034),benign(0.141),benign(0.01)'\n",
    "    # If there are multiple values, the prediction (benign, \n",
    "    # possibly damaging, or probably damaging) can be different.\n",
    "    # I'm going to take the most-damaging score and prediction.\n",
    "    if type(x) is str:\n",
    "        values = x.split(',')\n",
    "        scores = [float(x[:-1].split('(')[1]) for x in values]\n",
    "        i = np.argmax(scores)\n",
    "        return scores[i]\n",
    "    else:\n",
    "        return np.nan\n",
    "    \n",
    "def parse_sift_prediction(x):\n",
    "    # The SIFT column can have a single value like\n",
    "    # 'tolerated(0.1)'\n",
    "    # or multiple values like\n",
    "    # 'deleterious_low_confidence(0.02),deleterious_low_confidence(0.01)'\n",
    "    # If there are multiple values, the prediction (benign, \n",
    "    # possibly damaging, or probably damaging) can be different.\n",
    "    # I'm going to take the most-damaging score and prediction.\n",
    "    if type(x) is str:\n",
    "        values = x.split(',')\n",
    "        predictions = [x.split('(')[0] for x in values]\n",
    "        scores = [float(x[:-1].split('(')[1]) for x in values]\n",
    "        i = np.argmin(scores)\n",
    "        return predictions[i]\n",
    "    else:\n",
    "        return np.nan\n",
    "\n",
    "def parse_sift_score(x):\n",
    "    # The SIFT column can have a single value like\n",
    "    # 'tolerated(0.1)'\n",
    "    # or multiple values like\n",
    "    # 'deleterious_low_confidence(0.02),deleterious_low_confidence(0.01)'\n",
    "    # If there are multiple values, the prediction (benign, \n",
    "    # possibly damaging, or probably damaging) can be different.\n",
    "    # I'm going to take the most-damaging score and prediction.\n",
    "    if type(x) is str:\n",
    "        values = x.split(',')\n",
    "        scores = [float(x[:-1].split('(')[1]) for x in values]\n",
    "        i = np.argmin(scores)\n",
    "        return scores[i]\n",
    "    else:\n",
    "        return np.nan"
   ]
  },
  {
   "cell_type": "code",
   "execution_count": 131,
   "metadata": {
    "collapsed": false
   },
   "outputs": [],
   "source": [
    "vrs_f['PolyPhen_prediction'] = vrs_f.PolyPhen.apply(lambda x: parse_polyphen_prediction(x)).values\n",
    "vrs_f['PolyPhen_score'] = vrs_f.PolyPhen.apply(lambda x: parse_polyphen_score(x)).values\n",
    "\n",
    "vrs_f['SIFT_prediction'] = vrs_f.SIFT.apply(lambda x: parse_sift_prediction(x)).values\n",
    "vrs_f['SIFT_score'] = vrs_f.SIFT.apply(lambda x: parse_sift_score(x)).values\n",
    "vrs_f['SNP'] = (vrs_f.REF.apply(lambda x: len(x)) == 1) & (vrs_f.ALT.apply(lambda x: len(x)) == 1)"
   ]
  },
  {
   "cell_type": "code",
   "execution_count": 143,
   "metadata": {
    "collapsed": false
   },
   "outputs": [
    {
     "data": {
      "text/plain": [
       "Index([u'CHROM', u'POS', u'REF', u'ALT', u'AC_AFR', u'AC_AMR', u'AC_ASJ',\n",
       "       u'AC_EAS', u'AC_FIN', u'AC_NFE', u'AC_OTH', u'AC_SAS', u'AN_AFR',\n",
       "       u'AN_AMR', u'AN_ASJ', u'AN_EAS', u'AN_FIN', u'AN_NFE', u'AN_OTH',\n",
       "       u'AN_SAS', u'Allele', u'Consequence', u'IMPACT', u'Gene', u'BIOTYPE',\n",
       "       u'SIFT', u'PolyPhen', u'CLIN_SIG', u'LoF', u'LoF_filter', u'LoF_flags',\n",
       "       u'LoF_info', u'AF_AFR', u'AF_AMR', u'AF_ASJ', u'AF_EAS', u'AF_FIN',\n",
       "       u'AF_NFE', u'AF_OTH', u'AF_SAS', u'GP_AFR', u'GP_AMR', u'GP_ASJ',\n",
       "       u'GP_EAS', u'GP_FIN', u'GP_NFE', u'GP_OTH', u'GP_SAS', u'group_0',\n",
       "       u'group_1', u'group_2', u'beta', u'se2', u'group',\n",
       "       u'PolyPhen_prediction', u'PolyPhen_score', u'SIFT_prediction',\n",
       "       u'SIFT_score'],\n",
       "      dtype='object')"
      ]
     },
     "execution_count": 143,
     "metadata": {},
     "output_type": "execute_result"
    }
   ],
   "source": [
    "vrs_f.columns"
   ]
  },
  {
   "cell_type": "raw",
   "metadata": {},
   "source": [
    "t = []\n",
    "for i in vrs_f.dropna(subset=['CLIN_SIG']).index:\n",
    "    t += vrs_f.ix[i, 'CLIN_SIG'].split('&')\n",
    "set(t)\n",
    "\n",
    "sort_order = ['pathogenic',\n",
    "              'likely_pathogenic',\n",
    "              'association',\n",
    "              'confers_sensitivity',\n",
    "              'drug_response',\n",
    "              'protective',\n",
    "              'risk_factor',\n",
    "              'uncertain_significance',\n",
    "              'likely_benign',\n",
    "              'benign',\n",
    "              'not_provided',\n",
    "              'other',\n",
    "             ]"
   ]
  },
  {
   "cell_type": "markdown",
   "metadata": {},
   "source": [
    "I'll write a file with the variants ordered according to interest."
   ]
  },
  {
   "cell_type": "code",
   "execution_count": 202,
   "metadata": {
    "collapsed": false
   },
   "outputs": [
    {
     "data": {
      "text/html": [
       "<div>\n",
       "<table border=\"1\" class=\"dataframe\">\n",
       "  <thead>\n",
       "    <tr style=\"text-align: right;\">\n",
       "      <th></th>\n",
       "      <th>CHROM</th>\n",
       "      <th>POS</th>\n",
       "      <th>REF</th>\n",
       "      <th>ALT</th>\n",
       "      <th>SNP</th>\n",
       "      <th>AF_AMR</th>\n",
       "      <th>AF_NFE</th>\n",
       "      <th>beta</th>\n",
       "      <th>se2</th>\n",
       "      <th>LoF</th>\n",
       "      <th>PolyPhen_score</th>\n",
       "      <th>SIFT_score</th>\n",
       "      <th>CLIN_SIG</th>\n",
       "      <th>AC_AMR</th>\n",
       "      <th>AN_AMR</th>\n",
       "      <th>AC_NFE</th>\n",
       "      <th>AN_NFE</th>\n",
       "    </tr>\n",
       "  </thead>\n",
       "  <tbody>\n",
       "    <tr>\n",
       "      <th>6775</th>\n",
       "      <td>1</td>\n",
       "      <td>1226700</td>\n",
       "      <td>C</td>\n",
       "      <td>CT</td>\n",
       "      <td>False</td>\n",
       "      <td>0.000260</td>\n",
       "      <td>0.000000</td>\n",
       "      <td>3.969895</td>\n",
       "      <td>2.117690</td>\n",
       "      <td>HC</td>\n",
       "      <td>NaN</td>\n",
       "      <td>NaN</td>\n",
       "      <td>NaN</td>\n",
       "      <td>8</td>\n",
       "      <td>30804</td>\n",
       "      <td>0</td>\n",
       "      <td>95974</td>\n",
       "    </tr>\n",
       "    <tr>\n",
       "      <th>11129</th>\n",
       "      <td>1</td>\n",
       "      <td>1416299</td>\n",
       "      <td>A</td>\n",
       "      <td>AGGAAGCC</td>\n",
       "      <td>False</td>\n",
       "      <td>0.000638</td>\n",
       "      <td>0.000054</td>\n",
       "      <td>2.408828</td>\n",
       "      <td>0.202668</td>\n",
       "      <td>HC</td>\n",
       "      <td>NaN</td>\n",
       "      <td>NaN</td>\n",
       "      <td>NaN</td>\n",
       "      <td>20</td>\n",
       "      <td>31336</td>\n",
       "      <td>6</td>\n",
       "      <td>110432</td>\n",
       "    </tr>\n",
       "    <tr>\n",
       "      <th>11215</th>\n",
       "      <td>1</td>\n",
       "      <td>1417961</td>\n",
       "      <td>C</td>\n",
       "      <td>CT</td>\n",
       "      <td>False</td>\n",
       "      <td>0.000298</td>\n",
       "      <td>0.000000</td>\n",
       "      <td>4.245125</td>\n",
       "      <td>2.095277</td>\n",
       "      <td>HC</td>\n",
       "      <td>NaN</td>\n",
       "      <td>NaN</td>\n",
       "      <td>NaN</td>\n",
       "      <td>10</td>\n",
       "      <td>33578</td>\n",
       "      <td>0</td>\n",
       "      <td>111518</td>\n",
       "    </tr>\n",
       "    <tr>\n",
       "      <th>18998</th>\n",
       "      <td>1</td>\n",
       "      <td>2519890</td>\n",
       "      <td>A</td>\n",
       "      <td>AAGGTG</td>\n",
       "      <td>False</td>\n",
       "      <td>0.000387</td>\n",
       "      <td>0.000018</td>\n",
       "      <td>2.888316</td>\n",
       "      <td>0.474113</td>\n",
       "      <td>HC</td>\n",
       "      <td>NaN</td>\n",
       "      <td>NaN</td>\n",
       "      <td>NaN</td>\n",
       "      <td>13</td>\n",
       "      <td>33582</td>\n",
       "      <td>2</td>\n",
       "      <td>111670</td>\n",
       "    </tr>\n",
       "    <tr>\n",
       "      <th>21201</th>\n",
       "      <td>1</td>\n",
       "      <td>3394994</td>\n",
       "      <td>GA</td>\n",
       "      <td>G</td>\n",
       "      <td>False</td>\n",
       "      <td>0.000392</td>\n",
       "      <td>0.000000</td>\n",
       "      <td>4.478134</td>\n",
       "      <td>2.074113</td>\n",
       "      <td>HC</td>\n",
       "      <td>NaN</td>\n",
       "      <td>NaN</td>\n",
       "      <td>NaN</td>\n",
       "      <td>13</td>\n",
       "      <td>33160</td>\n",
       "      <td>0</td>\n",
       "      <td>108122</td>\n",
       "    </tr>\n",
       "  </tbody>\n",
       "</table>\n",
       "</div>"
      ],
      "text/plain": [
       "      CHROM      POS REF       ALT    SNP    AF_AMR    AF_NFE      beta  \\\n",
       "6775      1  1226700   C        CT  False  0.000260  0.000000  3.969895   \n",
       "11129     1  1416299   A  AGGAAGCC  False  0.000638  0.000054  2.408828   \n",
       "11215     1  1417961   C        CT  False  0.000298  0.000000  4.245125   \n",
       "18998     1  2519890   A    AAGGTG  False  0.000387  0.000018  2.888316   \n",
       "21201     1  3394994  GA         G  False  0.000392  0.000000  4.478134   \n",
       "\n",
       "            se2 LoF  PolyPhen_score  SIFT_score CLIN_SIG  AC_AMR  AN_AMR  \\\n",
       "6775   2.117690  HC             NaN         NaN      NaN       8   30804   \n",
       "11129  0.202668  HC             NaN         NaN      NaN      20   31336   \n",
       "11215  2.095277  HC             NaN         NaN      NaN      10   33578   \n",
       "18998  0.474113  HC             NaN         NaN      NaN      13   33582   \n",
       "21201  2.074113  HC             NaN         NaN      NaN      13   33160   \n",
       "\n",
       "       AC_NFE  AN_NFE  \n",
       "6775        0   95974  \n",
       "11129       6  110432  \n",
       "11215       0  111518  \n",
       "18998       2  111670  \n",
       "21201       0  108122  "
      ]
     },
     "execution_count": 202,
     "metadata": {},
     "output_type": "execute_result"
    }
   ],
   "source": [
    "tdf = vrs_f.ix[enriched].sort_values(by=['LoF', 'PolyPhen_score', 'SIFT_score'], ascending=[True, False, True])\n",
    "cols = ['CHROM', 'POS', 'REF', 'ALT', 'SNP', 'AF_AMR', 'AF_NFE', 'beta', 'se2', 'LoF', 'PolyPhen_score', \n",
    "        'SIFT_score', 'CLIN_SIG', 'AC_AMR', 'AN_AMR', 'AC_NFE', 'AN_NFE']\n",
    "tdf[cols].head()"
   ]
  },
  {
   "cell_type": "code",
   "execution_count": 203,
   "metadata": {
    "collapsed": false
   },
   "outputs": [],
   "source": [
    "tdf.to_csv(os.path.join(outdir, 'amr_alleles.tsv'), sep='\\t', index=False)"
   ]
  },
  {
   "cell_type": "code",
   "execution_count": null,
   "metadata": {
    "collapsed": true
   },
   "outputs": [],
   "source": [
    "3 +"
   ]
  },
  {
   "cell_type": "markdown",
   "metadata": {},
   "source": [
    "### var0 = $0.2^2$, var1 = var2 = $0.05^2$"
   ]
  },
  {
   "cell_type": "raw",
   "metadata": {
    "collapsed": false,
    "scrolled": false
   },
   "source": [
    "for pop in tpops:\n",
    "    visualize_piemm_res(pop, piemm_res_02_05_05, summary_stats)"
   ]
  },
  {
   "cell_type": "markdown",
   "metadata": {},
   "source": [
    "### var0 = $0.3^2$, var1 = var2 = $0.05^2$"
   ]
  },
  {
   "cell_type": "raw",
   "metadata": {
    "collapsed": false,
    "scrolled": false
   },
   "source": [
    "for pop in tpops:\n",
    "    visualize_piemm_res(pop, piemm_res_03_05_05, summary_stats)"
   ]
  },
  {
   "cell_type": "markdown",
   "metadata": {},
   "source": [
    "### Variance = 1"
   ]
  },
  {
   "cell_type": "raw",
   "metadata": {
    "collapsed": false
   },
   "source": [
    "for pop in tpops:\n",
    "    visualize_piemm_res(pop, piemm_res_default, summary_stats)"
   ]
  },
  {
   "cell_type": "markdown",
   "metadata": {},
   "source": [
    "### Variance = 0.5"
   ]
  },
  {
   "cell_type": "raw",
   "metadata": {},
   "source": [
    "for pop in tpops:\n",
    "    visualize_piemm_res(pop, piemm_res_var05, summary_stats)"
   ]
  },
  {
   "cell_type": "markdown",
   "metadata": {},
   "source": [
    "### Variance = 0.25"
   ]
  },
  {
   "cell_type": "raw",
   "metadata": {},
   "source": [
    "for pop in tpops:\n",
    "    visualize_piemm_res(pop, piemm_res_var025, summary_stats)"
   ]
  },
  {
   "cell_type": "markdown",
   "metadata": {},
   "source": [
    "### Variance not fixed"
   ]
  },
  {
   "cell_type": "raw",
   "metadata": {},
   "source": [
    "for pop in tpops:\n",
    "    visualize_piemm_res(pop, piemm_res_notfix, summary_stats)"
   ]
  },
  {
   "cell_type": "markdown",
   "metadata": {},
   "source": [
    "### PCSK9 Results"
   ]
  },
  {
   "cell_type": "code",
   "execution_count": 19,
   "metadata": {
    "collapsed": true
   },
   "outputs": [],
   "source": [
    "pcsk9 = gtable[gtable.gene_name == 'PCSK9'].index[0]"
   ]
  },
  {
   "cell_type": "code",
   "execution_count": 20,
   "metadata": {
    "collapsed": false
   },
   "outputs": [
    {
     "name": "stdout",
     "output_type": "stream",
     "text": [
      "('SAS', 0.16467218072799295)\n",
      "('ASJ', 0.88355492654183443)\n",
      "('EAS', -0.61474677868015659)\n",
      "('AMR', 0.78223606425833381)\n",
      "('FIN', -3.062772917164069)\n",
      "('AFR', 1.9544257207490261)\n"
     ]
    }
   ],
   "source": [
    "for pop in tpops:\n",
    "    print(pop, summary_stats[pop].ix[pcsk9, 'beta'])"
   ]
  },
  {
   "cell_type": "code",
   "execution_count": 21,
   "metadata": {
    "collapsed": false
   },
   "outputs": [
    {
     "data": {
      "text/html": [
       "<div>\n",
       "<table border=\"1\" class=\"dataframe\">\n",
       "  <thead>\n",
       "    <tr style=\"text-align: right;\">\n",
       "      <th></th>\n",
       "      <th>AFR</th>\n",
       "      <th>AMR</th>\n",
       "      <th>ASJ</th>\n",
       "      <th>EAS</th>\n",
       "      <th>FIN</th>\n",
       "      <th>SAS</th>\n",
       "    </tr>\n",
       "  </thead>\n",
       "  <tbody>\n",
       "    <tr>\n",
       "      <th>similar</th>\n",
       "      <td>0.0</td>\n",
       "      <td>0.0</td>\n",
       "      <td>0.039216</td>\n",
       "      <td>0.960784</td>\n",
       "      <td>0.156863</td>\n",
       "      <td>1.0</td>\n",
       "    </tr>\n",
       "    <tr>\n",
       "      <th>enriched</th>\n",
       "      <td>1.0</td>\n",
       "      <td>1.0</td>\n",
       "      <td>0.960784</td>\n",
       "      <td>0.000000</td>\n",
       "      <td>0.039216</td>\n",
       "      <td>0.0</td>\n",
       "    </tr>\n",
       "    <tr>\n",
       "      <th>depleted</th>\n",
       "      <td>0.0</td>\n",
       "      <td>0.0</td>\n",
       "      <td>0.000000</td>\n",
       "      <td>0.039216</td>\n",
       "      <td>0.803922</td>\n",
       "      <td>0.0</td>\n",
       "    </tr>\n",
       "  </tbody>\n",
       "</table>\n",
       "</div>"
      ],
      "text/plain": [
       "          AFR  AMR       ASJ       EAS       FIN  SAS\n",
       "similar   0.0  0.0  0.039216  0.960784  0.156863  1.0\n",
       "enriched  1.0  1.0  0.960784  0.000000  0.039216  0.0\n",
       "depleted  0.0  0.0  0.000000  0.039216  0.803922  0.0"
      ]
     },
     "execution_count": 21,
     "metadata": {},
     "output_type": "execute_result"
    }
   ],
   "source": [
    "t = {}\n",
    "for pop in tpops:\n",
    "    t[pop] = piemm_res_01_05_05[pop][2].ix[pcsk9]\n",
    "t = pd.DataFrame(t)\n",
    "t.index = ['similar', 'enriched', 'depleted']\n",
    "t"
   ]
  },
  {
   "cell_type": "markdown",
   "metadata": {},
   "source": [
    "## Compare AFR vs. AMR\n",
    "\n",
    "I want to compare the genes enriched for LoF variants\n",
    "among African ancestry and Latino ancestry individuals.\n",
    "We'll use some gene lists to focus in on interesting genes."
   ]
  },
  {
   "cell_type": "code",
   "execution_count": 22,
   "metadata": {
    "collapsed": true
   },
   "outputs": [],
   "source": [
    "afr_gamma = piemm_res_01_05_05['AFR'][2]\n",
    "amr_gamma = piemm_res_01_05_05['AMR'][2]\n",
    "afr_enriched = set(afr_gamma.idxmax(axis=1)[afr_gamma.idxmax(axis=1) == 1].index)\n",
    "amr_enriched = set(amr_gamma.idxmax(axis=1)[amr_gamma.idxmax(axis=1) == 1].index)"
   ]
  },
  {
   "cell_type": "code",
   "execution_count": 23,
   "metadata": {
    "collapsed": false
   },
   "outputs": [
    {
     "name": "stdout",
     "output_type": "stream",
     "text": [
      "3,950 enriched genes for AFR.\n",
      "3,553 enriched genes for AMR.\n",
      "1,480 shared enriched genes for AFR and AMR.\n"
     ]
    }
   ],
   "source": [
    "print('{:,} enriched genes for AFR.'.format(len(afr_enriched)))\n",
    "print('{:,} enriched genes for AMR.'.format(len(amr_enriched)))\n",
    "print('{:,} shared enriched genes for AFR and AMR.'.format(len(afr_enriched & amr_enriched)))"
   ]
  },
  {
   "cell_type": "markdown",
   "metadata": {},
   "source": [
    "### FDA approved drug targets"
   ]
  },
  {
   "cell_type": "code",
   "execution_count": 24,
   "metadata": {
    "collapsed": false
   },
   "outputs": [
    {
     "name": "stdout",
     "output_type": "stream",
     "text": [
      "53 FDA drug targets enriched for AFR.\n",
      "53 FDA drug targets enriched for AMR.\n",
      "16 shared enriched FDA drug targets for AFR and AMR.\n"
     ]
    }
   ],
   "source": [
    "fn = ('/home/cdeboeve/cdeboeve_projects/repos/macarthur-lab/gene_lists/lists/fda_approved_drug_targets.tsv')\n",
    "fda_drug_targets = pd.read_table(fn, header=None, squeeze=True)\n",
    "ind = []\n",
    "for i in fda_drug_targets.index:\n",
    "    ind.append(gtable[gtable.gene_name == fda_drug_targets[i]].index[0])\n",
    "fda_drug_targets.index = ind\n",
    "\n",
    "print('{:,} FDA drug targets enriched for AFR.'.format(len(set(gtable.ix[afr_enriched, 'gene_name']) & set(fda_drug_targets))))\n",
    "print('{:,} FDA drug targets enriched for AMR.'.format(len(set(gtable.ix[amr_enriched, 'gene_name']) & set(fda_drug_targets))))\n",
    "print('{:,} shared enriched FDA drug targets for AFR and AMR.'.format(len(set(gtable.ix[afr_enriched, 'gene_name']) &\n",
    "                                                                          set(gtable.ix[amr_enriched, 'gene_name']) &\n",
    "                                                                          set(fda_drug_targets))))\n",
    "\n",
    "fda_set = (afr_enriched | amr_enriched) & set(fda_drug_targets.index)\n",
    "fda = pd.DataFrame(index=fda_set, columns=['symbol', 'AFR_beta', 'AMR_beta'])\n",
    "fda['symbol'] = gtable.ix[fda.index, 'gene_name']\n",
    "fda.ix[afr_enriched & set(fda.index), 'AFR_beta'] = summary_stats['AFR'].ix[afr_enriched & set(fda.index), 'beta']\n",
    "fda.ix[amr_enriched & set(fda.index), 'AMR_beta'] = summary_stats['AMR'].ix[amr_enriched & set(fda.index), 'beta']\n",
    "fda = fda.sort_values(by='symbol')\n",
    "fda['AF_AFR'] = lof_gene.AF_AFR.ix[fda.index]\n",
    "fda['AF_AMR'] = lof_gene.AF_AMR.ix[fda.index]\n",
    "fda['AF_NFE'] = lof_gene.AF_NFE.ix[fda.index]\n",
    "fda['AC_AFR'] = lof_gene.AC_AFR.ix[fda.index]\n",
    "fda['AC_AMR'] = lof_gene.AC_AMR.ix[fda.index]\n",
    "fda['AC_NFE'] = lof_gene.AC_NFE.ix[fda.index]"
   ]
  },
  {
   "cell_type": "markdown",
   "metadata": {},
   "source": [
    "### Nelson et al. drug targets"
   ]
  },
  {
   "cell_type": "code",
   "execution_count": 25,
   "metadata": {
    "collapsed": false
   },
   "outputs": [
    {
     "name": "stdout",
     "output_type": "stream",
     "text": [
      "37 Nelson drug targets enriched for AFR.\n",
      "40 Nelson drug targets enriched for AMR.\n",
      "15 shared enriched Nelson drug targets for AFR and AMR.\n"
     ]
    }
   ],
   "source": [
    "fn = ('/home/cdeboeve/cdeboeve_projects/repos/macarthur-lab/gene_lists/lists/drug_targets_nelson.tsv')\n",
    "nelson_drug_targets = pd.read_table(fn, header=None, squeeze=True)\n",
    "ind = []\n",
    "for i in nelson_drug_targets.index:\n",
    "    if len(gtable[gtable.gene_name == nelson_drug_targets[i]].index) > 0:\n",
    "        ind.append(gtable[gtable.gene_name == nelson_drug_targets[i]].index[0])\n",
    "    else:\n",
    "        ind.append('NaN')\n",
    "nelson_drug_targets.index = ind\n",
    "nelson_drug_targets = nelson_drug_targets.drop('NaN')\n",
    "\n",
    "print('{:,} Nelson drug targets enriched for AFR.'.format(len(set(gtable.ix[afr_enriched, 'gene_name']) & set(nelson_drug_targets))))\n",
    "print('{:,} Nelson drug targets enriched for AMR.'.format(len(set(gtable.ix[amr_enriched, 'gene_name']) & set(nelson_drug_targets))))\n",
    "print('{:,} shared enriched Nelson drug targets for AFR and AMR.'.format(len(set(gtable.ix[afr_enriched, 'gene_name']) &\n",
    "                                                                          set(gtable.ix[amr_enriched, 'gene_name']) &\n",
    "                                                                          set(nelson_drug_targets))))\n",
    "\n",
    "nelson_set = (afr_enriched | amr_enriched) & set(nelson_drug_targets.index)\n",
    "nelson = pd.DataFrame(index=nelson_set, columns=['symbol', 'AFR_beta', 'AMR_beta'])\n",
    "nelson['symbol'] = gtable.ix[nelson.index, 'gene_name']\n",
    "nelson.ix[afr_enriched & set(nelson.index), 'AFR_beta'] = summary_stats['AFR'].ix[afr_enriched & set(nelson.index), 'beta']\n",
    "nelson.ix[amr_enriched & set(nelson.index), 'AMR_beta'] = summary_stats['AMR'].ix[amr_enriched & set(nelson.index), 'beta']\n",
    "nelson = nelson.sort_values(by='symbol')\n",
    "nelson['AF_AFR'] = lof_gene.AF_AFR.ix[nelson.index]\n",
    "nelson['AF_AMR'] = lof_gene.AF_AMR.ix[nelson.index]\n",
    "nelson['AF_NFE'] = lof_gene.AF_NFE.ix[nelson.index]\n",
    "nelson['AC_AFR'] = lof_gene.AC_AFR.ix[nelson.index]\n",
    "nelson['AC_AMR'] = lof_gene.AC_AMR.ix[nelson.index]\n",
    "nelson['AC_NFE'] = lof_gene.AC_NFE.ix[nelson.index]"
   ]
  },
  {
   "cell_type": "markdown",
   "metadata": {},
   "source": [
    "### Rivas IBD genes"
   ]
  },
  {
   "cell_type": "code",
   "execution_count": 26,
   "metadata": {
    "collapsed": false
   },
   "outputs": [
    {
     "name": "stdout",
     "output_type": "stream",
     "text": [
      "59 IBD genes enriched for AFR.\n",
      "41 IBD genes enriched for AMR.\n",
      "16 shared enriched IBD genes for AFR and AMR.\n"
     ]
    }
   ],
   "source": [
    "fn = ('../data/ibd_gwas.locset')\n",
    "ibd_genes = pd.read_table(fn, header=None, squeeze=True).drop(1, axis=1)[0].drop_duplicates()\n",
    "ind = []\n",
    "for i in ibd_genes.index:\n",
    "    if len(gtable[gtable.gene_name == ibd_genes[i]].index) > 0:\n",
    "        ind.append(gtable[gtable.gene_name == ibd_genes[i]].index[0])\n",
    "    else:\n",
    "        ind.append('NaN')\n",
    "ibd_genes.index = ind\n",
    "ibd_genes = ibd_genes.drop('NaN')\n",
    "\n",
    "print('{:,} IBD genes enriched for AFR.'.format(len(afr_enriched & set(ibd_genes.index))))\n",
    "print('{:,} IBD genes enriched for AMR.'.format(len(amr_enriched & set(ibd_genes.index))))\n",
    "print('{:,} shared enriched IBD genes for AFR and AMR.'.format(len(afr_enriched & \n",
    "                                                                   amr_enriched & \n",
    "                                                                   set(ibd_genes.index))))\n",
    "\n",
    "ibd = pd.DataFrame(index=(afr_enriched | amr_enriched) & set(ibd_genes.index), \n",
    "                   columns=['symbol', 'AFR_beta', 'AMR_beta'])\n",
    "ibd['symbol'] = gtable.ix[ibd.index, 'gene_name']\n",
    "ibd.ix[afr_enriched & set(ibd.index), 'AFR_beta'] = summary_stats['AFR'].ix[afr_enriched & set(ibd.index), 'beta']\n",
    "ibd.ix[amr_enriched & set(ibd.index), 'AMR_beta'] = summary_stats['AMR'].ix[amr_enriched & set(ibd.index), 'beta']\n",
    "ibd = ibd.sort_values(by='symbol')\n",
    "ibd['AF_AFR'] = lof_gene.AF_AFR.ix[ibd.index]\n",
    "ibd['AF_AMR'] = lof_gene.AF_AMR.ix[ibd.index]\n",
    "ibd['AF_NFE'] = lof_gene.AF_NFE.ix[ibd.index]\n",
    "ibd['AC_AFR'] = lof_gene.AC_AFR.ix[ibd.index]\n",
    "ibd['AC_AMR'] = lof_gene.AC_AMR.ix[ibd.index]\n",
    "ibd['AC_NFE'] = lof_gene.AC_NFE.ix[ibd.index]"
   ]
  },
  {
   "cell_type": "markdown",
   "metadata": {},
   "source": [
    "### Autosomal recessive genes"
   ]
  },
  {
   "cell_type": "code",
   "execution_count": 27,
   "metadata": {
    "collapsed": false
   },
   "outputs": [
    {
     "name": "stdout",
     "output_type": "stream",
     "text": [
      "203 autosomal recessive genes enriched for AFR.\n",
      "193 autosomal recessive genes enriched for AMR.\n",
      "58 shared enriched autosomal recessive genes for AFR and AMR.\n"
     ]
    }
   ],
   "source": [
    "fn = ('/home/cdeboeve/cdeboeve_projects/repos/macarthur-lab/gene_lists/lists/all_ar.tsv')\n",
    "auto_recessive_genes = pd.read_table(fn, header=None, squeeze=True)\n",
    "ind = []\n",
    "for i in auto_recessive_genes.index:\n",
    "    if len(gtable[gtable.gene_name == auto_recessive_genes[i]].index) > 0:\n",
    "        ind.append(gtable[gtable.gene_name == auto_recessive_genes[i]].index[0])\n",
    "    else:\n",
    "        ind.append('NaN')\n",
    "auto_recessive_genes.index = ind\n",
    "auto_recessive_genes = auto_recessive_genes.drop('NaN')\n",
    "\n",
    "print('{:,} autosomal recessive genes enriched for AFR.'.format(len(set(gtable.ix[afr_enriched, 'gene_name']) & set(auto_recessive_genes))))\n",
    "print('{:,} autosomal recessive genes enriched for AMR.'.format(len(set(gtable.ix[amr_enriched, 'gene_name']) & set(auto_recessive_genes))))\n",
    "print('{:,} shared enriched autosomal recessive genes for AFR and AMR.'.format(len(set(gtable.ix[afr_enriched, 'gene_name']) &\n",
    "                                                                          set(gtable.ix[amr_enriched, 'gene_name']) &\n",
    "                                                                          set(auto_recessive_genes))))\n",
    "\n",
    "auto_recessive = pd.DataFrame(index=(afr_enriched | amr_enriched) & set(auto_recessive_genes.index),\n",
    "                              columns=['symbol', 'AFR_beta', 'AMR_beta'])\n",
    "auto_recessive['symbol'] = gtable.ix[auto_recessive.index, 'gene_name']\n",
    "auto_recessive.ix[afr_enriched & set(auto_recessive.index), 'AFR_beta'] = summary_stats['AFR'].ix[afr_enriched & set(auto_recessive.index), 'beta']\n",
    "auto_recessive.ix[amr_enriched & set(auto_recessive.index), 'AMR_beta'] = summary_stats['AMR'].ix[amr_enriched & set(auto_recessive.index), 'beta']\n",
    "auto_recessive = auto_recessive.sort_values(by='symbol')\n",
    "auto_recessive['AF_AFR'] = lof_gene.AF_AFR.ix[auto_recessive.index]\n",
    "auto_recessive['AF_AMR'] = lof_gene.AF_AMR.ix[auto_recessive.index]\n",
    "auto_recessive['AF_NFE'] = lof_gene.AF_NFE.ix[auto_recessive.index]\n",
    "auto_recessive['AC_AFR'] = lof_gene.AC_AFR.ix[auto_recessive.index]\n",
    "auto_recessive['AC_AMR'] = lof_gene.AC_AMR.ix[auto_recessive.index]\n",
    "auto_recessive['AC_NFE'] = lof_gene.AC_NFE.ix[auto_recessive.index]"
   ]
  },
  {
   "cell_type": "markdown",
   "metadata": {},
   "source": [
    "### Rivas schizophrenia genes"
   ]
  },
  {
   "cell_type": "code",
   "execution_count": 28,
   "metadata": {
    "collapsed": false
   },
   "outputs": [
    {
     "name": "stdout",
     "output_type": "stream",
     "text": [
      "15 schizophrenia genes enriched for AFR.\n",
      "10 schizophrenia genes enriched for AMR.\n",
      "5 shared enriched schizophrenia genes for AFR and AMR.\n"
     ]
    }
   ],
   "source": [
    "fn = ('../data/tier1.txt')\n",
    "schiz_genes = pd.read_table(fn, header=None, squeeze=True)\n",
    "ind = []\n",
    "for i in schiz_genes.index:\n",
    "    if len(gtable[gtable.gene_name == schiz_genes[i]].index) > 0:\n",
    "        ind.append(gtable[gtable.gene_name == schiz_genes[i]].index[0])\n",
    "    else:\n",
    "        ind.append('NaN')\n",
    "schiz_genes.index = ind\n",
    "schiz_genes = schiz_genes.drop('NaN')\n",
    "\n",
    "print('{:,} schizophrenia genes enriched for AFR.'.format(len(set(gtable.ix[afr_enriched, 'gene_name']) & set(schiz_genes))))\n",
    "print('{:,} schizophrenia genes enriched for AMR.'.format(len(set(gtable.ix[amr_enriched, 'gene_name']) & set(schiz_genes))))\n",
    "print('{:,} shared enriched schizophrenia genes for AFR and AMR.'.format(len(set(gtable.ix[afr_enriched, 'gene_name']) &\n",
    "                                                                          set(gtable.ix[amr_enriched, 'gene_name']) &\n",
    "                                                                          set(schiz_genes))))\n",
    "\n",
    "schiz = pd.DataFrame(index=(afr_enriched | amr_enriched) & set(schiz_genes.index),\n",
    "                              columns=['symbol', 'AFR_beta', 'AMR_beta'])\n",
    "schiz['symbol'] = gtable.ix[schiz.index, 'gene_name']\n",
    "schiz.ix[afr_enriched & set(schiz.index), 'AFR_beta'] = summary_stats['AFR'].ix[afr_enriched & set(schiz.index), 'beta']\n",
    "schiz.ix[amr_enriched & set(schiz.index), 'AMR_beta'] = summary_stats['AMR'].ix[amr_enriched & set(schiz.index), 'beta']\n",
    "schiz = schiz.sort_values(by='symbol')\n",
    "schiz['AF_AFR'] = lof_gene.AF_AFR.ix[schiz.index]\n",
    "schiz['AF_AMR'] = lof_gene.AF_AMR.ix[schiz.index]\n",
    "schiz['AF_NFE'] = lof_gene.AF_NFE.ix[schiz.index]\n",
    "schiz['AC_AFR'] = lof_gene.AC_AFR.ix[schiz.index]\n",
    "schiz['AC_AMR'] = lof_gene.AC_AMR.ix[schiz.index]\n",
    "schiz['AC_NFE'] = lof_gene.AC_NFE.ix[schiz.index]"
   ]
  },
  {
   "cell_type": "markdown",
   "metadata": {},
   "source": [
    "I'll make an Excel sheet with these results."
   ]
  },
  {
   "cell_type": "code",
   "execution_count": 29,
   "metadata": {
    "collapsed": false
   },
   "outputs": [],
   "source": [
    "writer = pd.ExcelWriter(os.path.join(outdir, 'afr_amr_enriched.xlsx'))\n",
    "fda.to_excel(writer, 'fda_drug_targets')\n",
    "nelson.to_excel(writer, 'nelson_drug_targets')\n",
    "ibd.to_excel(writer, 'ibd_genes')\n",
    "auto_recessive.to_excel(writer, 'autosomal_recessive')\n",
    "schiz.to_excel(writer, 'schizophrenia_genes')\n",
    "writer.save()"
   ]
  },
  {
   "cell_type": "markdown",
   "metadata": {},
   "source": [
    "## Power to detect associations for GWAS genes"
   ]
  },
  {
   "cell_type": "code",
   "execution_count": 30,
   "metadata": {
    "collapsed": true
   },
   "outputs": [],
   "source": [
    "gwas = pd.read_table(('/home/cdeboeve/rivas/data/gwas_catalog_20160315/'\n",
    "                      'gwas_catalog_v1.0.1-associations_e87_r2017-03-13.tsv'), low_memory=False)"
   ]
  },
  {
   "cell_type": "markdown",
   "metadata": {},
   "source": [
    "I'm going to use the gene-disease associations from [this](https://thinklab.com/discussion/extracting-disease-gene-associations-from-the-gwas-catalog/80). Note that I'm using the file from [this commit](https://github.com/dhimmel/gwas-catalog/commit/a5aa4910708a3995501ebe4136d8b9d601463fa1) which is ahead of master. It includes more diseases."
   ]
  },
  {
   "cell_type": "code",
   "execution_count": 31,
   "metadata": {
    "collapsed": false
   },
   "outputs": [
    {
     "name": "stderr",
     "output_type": "stream",
     "text": [
      "/home/cdeboeve/cdeboeve_projects/software/anaconda3/envs/py27/lib/python2.7/site-packages/pandas/core/indexing.py:297: SettingWithCopyWarning: \n",
      "A value is trying to be set on a copy of a slice from a DataFrame.\n",
      "Try using .loc[row_indexer,col_indexer] = value instead\n",
      "\n",
      "See the caveats in the documentation: http://pandas.pydata.org/pandas-docs/stable/indexing.html#indexing-view-versus-copy\n",
      "  self.obj[key] = _infer_fill_value(value)\n",
      "/home/cdeboeve/cdeboeve_projects/software/anaconda3/envs/py27/lib/python2.7/site-packages/pandas/core/indexing.py:477: SettingWithCopyWarning: \n",
      "A value is trying to be set on a copy of a slice from a DataFrame.\n",
      "Try using .loc[row_indexer,col_indexer] = value instead\n",
      "\n",
      "See the caveats in the documentation: http://pandas.pydata.org/pandas-docs/stable/indexing.html#indexing-view-versus-copy\n",
      "  self.obj[item] = s\n"
     ]
    }
   ],
   "source": [
    "path = ('https://raw.githubusercontent.com/dhimmel/gwas-catalog/'\n",
    "        'a5aa4910708a3995501ebe4136d8b9d601463fa1/data/gene-associations.tsv')\n",
    "gwas_genes = pd.read_table(path)\n",
    "\n",
    "gwas_genes_f = gwas_genes[gwas_genes.high_confidence == 1]\n",
    "\n",
    "vc = gtable.gene_name.value_counts()\n",
    "vc = vc[vc > 1]\n",
    "tdf = gtable[gtable.gene_name.apply(lambda x: x not in vc.index)]\n",
    "gn_to_gid = pd.Series(tdf.index, index=tdf.gene_name.values)\n",
    "\n",
    "gwas_genes_f.loc[:, 'gene_id'] = gn_to_gid[gwas_genes_f.symbol].values\n",
    "gwas_genes_f = gwas_genes_f.dropna()"
   ]
  },
  {
   "cell_type": "code",
   "execution_count": 32,
   "metadata": {
    "collapsed": true
   },
   "outputs": [],
   "source": [
    "%%R\n",
    "\n",
    "source(\"/home/cdeboeve/cdeboeve_projects/projects/powersim/GeneticsDesign/R/GPC.R\")"
   ]
  },
  {
   "cell_type": "code",
   "execution_count": 33,
   "metadata": {
    "collapsed": true
   },
   "outputs": [],
   "source": [
    "# Bring GPC function into python.\n",
    "gpc_default_fnc = robjects.r['GPC.default']\n",
    "\n",
    "def gpc_default(pA, RRAa, pD, nCase, ratio, pB=None, Dprime=1, alpha=5e-8, unselected=False,\n",
    "                protective=False):\n",
    "    \"\"\"\n",
    "    Wrapper around the GPC.default function that accounts for some of the bugs in the function.\n",
    "    ratio is nCase / nControl\n",
    "    if pB is None, it will be set to equal pA\n",
    "    I'm assuming additive traits.\n",
    "    \"\"\"\n",
    "    if pB is None:\n",
    "        pB = pA\n",
    "    nControl = nCase / ratio\n",
    "\n",
    "    if protective:\n",
    "        # I use the case number here but invert the ratio.\n",
    "        res = gpc_default_fnc(pA=pA, pD=pD, RRAa=RRAa, RRAA=RRAa * 2, Dprime=Dprime, pB=pB, \n",
    "                              nCase=nCase, ratio=1 / float(ratio), alpha=alpha, \n",
    "                              unselected=unselected, quiet=True)\n",
    "    else:\n",
    "        # Due to how the control/case counts and ratio are implemented in GPC.default,\n",
    "        # I have to provide nControl instead of nCase.\n",
    "        res = gpc_default_fnc(pA=pA, pD=pD, RRAa=RRAa, RRAA=RRAa * 2, Dprime=Dprime, pB=pB, \n",
    "                              nCase=nControl, ratio=ratio, alpha=alpha, unselected=unselected, \n",
    "                              quiet=True)\n",
    "    # Return the power estimate.\n",
    "    return res[0][0]"
   ]
  },
  {
   "cell_type": "code",
   "execution_count": 34,
   "metadata": {
    "collapsed": true
   },
   "outputs": [],
   "source": [
    "def calc_power(p, rr=2):\n",
    "    if p == 0:\n",
    "        return 0\n",
    "    else:\n",
    "        return gpc_default(p, rr, 0.1, 25000, 0.5, alpha=2e-6, unselected=True)"
   ]
  },
  {
   "cell_type": "code",
   "execution_count": 35,
   "metadata": {
    "collapsed": true
   },
   "outputs": [],
   "source": [
    "ppops = list(set(pops) - set(['OTH']))"
   ]
  },
  {
   "cell_type": "code",
   "execution_count": 36,
   "metadata": {
    "collapsed": true
   },
   "outputs": [],
   "source": [
    "gwas_genes_power = pd.crosstab(gwas_genes_f.gene_id, gwas_genes_f.doid_name)\n",
    "# I'm going to add in PCSK9 for CAD.\n",
    "gwas_genes_power.ix[gn_to_gid['PCSK9'], 'coronary artery disease'] = 1\n",
    "gwas_genes_power = gwas_genes_power.join(lof_gene.ix[gwas_genes_power.index, \n",
    "                                                     ['AF_{}'.format(x) for x in ppops]])\n",
    "gwas_genes_power = gwas_genes_power.dropna()\n",
    "\n",
    "t = gwas_genes_power[['AF_{}'.format(x) for x in ppops]].applymap(lambda x: calc_power(x))\n",
    "t.columns = ['{}_rr2'.format(x.split('_')[1]) for x in t.columns]\n",
    "gwas_genes_power = gwas_genes_power.join(t)\n",
    "\n",
    "t = gwas_genes_power[['AF_{}'.format(x) for x in ppops]].applymap(lambda x: calc_power(x, 4))\n",
    "t.columns = ['{}_rr4'.format(x.split('_')[1]) for x in t.columns]\n",
    "gwas_genes_power = gwas_genes_power.join(t)\n",
    "\n",
    "gwas_genes_power.index = gtable.ix[gwas_genes_power.index, 'gene_name']\n",
    "gwas_genes_power.to_csv(os.path.join(outdir, 'gwas_genes_power.tsv'), sep='\\t')"
   ]
  },
  {
   "cell_type": "code",
   "execution_count": 37,
   "metadata": {
    "collapsed": true
   },
   "outputs": [],
   "source": [
    "gsp_diseases = ['coronary artery disease', 'inflammatory bowel disease', 'type 1 diabetes mellitus',\n",
    "                'asthma', 'epilepsy syndrome', 'autistic disorder']\n",
    "\n",
    "power_cols0 = ['{}_rr2'.format(x) for x in ppops]\n",
    "power_cols1 = ['{}_rr4'.format(x) for x in ppops]\n",
    "power_cols = power_cols0 + power_cols1\n",
    "\n",
    "cols = (['num_genes'] + \n",
    "        ['{}_50'.format(x) for x in power_cols] + \n",
    "        ['{}_80'.format(x) for x in power_cols] + \n",
    "        ['{}_50_percent'.format(x) for x in power_cols] + \n",
    "        ['{}_80_percent'.format(x) for x in power_cols])\n",
    "out = pd.DataFrame(index=gsp_diseases, columns=cols)\n",
    "\n",
    "writer = pd.ExcelWriter(os.path.join(outdir, 'gsp_diseases.xlsx'))\n",
    "for c in gsp_diseases:\n",
    "    \n",
    "    t = gwas_genes_power.ix[gwas_genes_power[c] == 1, power_cols0]\n",
    "    out.ix[c, 'num_genes'] = t.shape[0]\n",
    "    se = (t > 0.5).sum()\n",
    "    out.ix[c, ['{}_50'.format(x) for x in se.index]] = se.values    \n",
    "    out.ix[c, ['{}_50_percent'.format(x) for x in se.index]] = (se.values / float(t.shape[0])).round(3)\n",
    "    se = (t > 0.8).sum()\n",
    "    out.ix[c, ['{}_80'.format(x) for x in se.index]] = se.values\n",
    "    out.ix[c, ['{}_80_percent'.format(x) for x in se.index]] = (se.values / float(t.shape[0])).round(3)\n",
    "    \n",
    "    t = gwas_genes_power.ix[gwas_genes_power[c] == 1, power_cols1]\n",
    "    se = (t > 0.5).sum()\n",
    "    out.ix[c, ['{}_50'.format(x) for x in se.index]] = se.values    \n",
    "    out.ix[c, ['{}_50_percent'.format(x) for x in se.index]] = (se.values / float(t.shape[0])).round(3)\n",
    "    se = (t > 0.8).sum()\n",
    "    out.ix[c, ['{}_80'.format(x) for x in se.index]] = se.values\n",
    "    out.ix[c, ['{}_80_percent'.format(x) for x in se.index]] = (se.values / float(t.shape[0])).round(3)\n",
    "    \n",
    "    t = gwas_genes_power.ix[gwas_genes_power[c] == 1, \n",
    "                            power_cols].sort_index()\n",
    "    t.to_excel(writer, c)\n",
    "out.T.to_csv(os.path.join(outdir, 'gsp_num_powered.tsv'), sep='\\t')\n",
    "gsp_power = out.T.copy(deep=True)\n",
    "writer.save()"
   ]
  },
  {
   "cell_type": "markdown",
   "metadata": {},
   "source": [
    "## Further analysis"
   ]
  },
  {
   "cell_type": "code",
   "execution_count": 38,
   "metadata": {
    "collapsed": false
   },
   "outputs": [
    {
     "data": {
      "text/html": [
       "<div>\n",
       "<table border=\"1\" class=\"dataframe\">\n",
       "  <thead>\n",
       "    <tr style=\"text-align: right;\">\n",
       "      <th></th>\n",
       "      <th>symbol</th>\n",
       "      <th>AFR_beta</th>\n",
       "      <th>AMR_beta</th>\n",
       "      <th>AF_AFR</th>\n",
       "      <th>AF_AMR</th>\n",
       "      <th>AF_NFE</th>\n",
       "      <th>AC_AFR</th>\n",
       "      <th>AC_AMR</th>\n",
       "      <th>AC_NFE</th>\n",
       "    </tr>\n",
       "  </thead>\n",
       "  <tbody>\n",
       "    <tr>\n",
       "      <th>ENSG00000257335</th>\n",
       "      <td>MGAM</td>\n",
       "      <td>NaN</td>\n",
       "      <td>0.940353</td>\n",
       "      <td>0.003585</td>\n",
       "      <td>0.006795</td>\n",
       "      <td>0.002666</td>\n",
       "      <td>54</td>\n",
       "      <td>223</td>\n",
       "      <td>289</td>\n",
       "    </tr>\n",
       "  </tbody>\n",
       "</table>\n",
       "</div>"
      ],
      "text/plain": [
       "                symbol AFR_beta  AMR_beta    AF_AFR    AF_AMR    AF_NFE  \\\n",
       "ENSG00000257335   MGAM      NaN  0.940353  0.003585  0.006795  0.002666   \n",
       "\n",
       "                 AC_AFR  AC_AMR  AC_NFE  \n",
       "ENSG00000257335      54     223     289  "
      ]
     },
     "execution_count": 38,
     "metadata": {},
     "output_type": "execute_result"
    }
   ],
   "source": [
    "fda[fda.symbol == 'MGAM']"
   ]
  },
  {
   "cell_type": "code",
   "execution_count": 39,
   "metadata": {
    "collapsed": false
   },
   "outputs": [
    {
     "data": {
      "text/html": [
       "<div>\n",
       "<table border=\"1\" class=\"dataframe\">\n",
       "  <thead>\n",
       "    <tr style=\"text-align: right;\">\n",
       "      <th></th>\n",
       "      <th>symbol</th>\n",
       "      <th>AFR_beta</th>\n",
       "      <th>AMR_beta</th>\n",
       "      <th>AF_AFR</th>\n",
       "      <th>AF_AMR</th>\n",
       "      <th>AF_NFE</th>\n",
       "      <th>AC_AFR</th>\n",
       "      <th>AC_AMR</th>\n",
       "      <th>AC_NFE</th>\n",
       "    </tr>\n",
       "  </thead>\n",
       "  <tbody>\n",
       "    <tr>\n",
       "      <th>ENSG00000142192</th>\n",
       "      <td>APP</td>\n",
       "      <td>NaN</td>\n",
       "      <td>0.690371</td>\n",
       "      <td>0.000196</td>\n",
       "      <td>0.000298</td>\n",
       "      <td>0.000152</td>\n",
       "      <td>3</td>\n",
       "      <td>10</td>\n",
       "      <td>17</td>\n",
       "    </tr>\n",
       "  </tbody>\n",
       "</table>\n",
       "</div>"
      ],
      "text/plain": [
       "                symbol AFR_beta  AMR_beta    AF_AFR    AF_AMR    AF_NFE  \\\n",
       "ENSG00000142192    APP      NaN  0.690371  0.000196  0.000298  0.000152   \n",
       "\n",
       "                 AC_AFR  AC_AMR  AC_NFE  \n",
       "ENSG00000142192       3      10      17  "
      ]
     },
     "execution_count": 39,
     "metadata": {},
     "output_type": "execute_result"
    }
   ],
   "source": [
    "nelson[nelson.symbol == 'APP']"
   ]
  },
  {
   "cell_type": "code",
   "execution_count": 40,
   "metadata": {
    "collapsed": true
   },
   "outputs": [],
   "source": [
    "def visualize_piemm_res(pop, piemm_res, summary_stats):\n",
    "    display(HTML('<h4>Results for {}</h4>'.format(pop)))\n",
    "    ires, ores, gamma = piemm_res[pop]\n",
    "    sum_stats = summary_stats[pop]\n",
    "    fig, axs = plt.subplots(6, 2, figsize=(10, 15))\n",
    "    display(ores)"
   ]
  },
  {
   "cell_type": "code",
   "execution_count": 41,
   "metadata": {
    "collapsed": false
   },
   "outputs": [],
   "source": [
    "sns.set_palette(sns.color_palette('colorblind'))"
   ]
  },
  {
   "cell_type": "code",
   "execution_count": 42,
   "metadata": {
    "collapsed": false
   },
   "outputs": [
    {
     "data": {
      "text/html": [
       "<div>\n",
       "<table border=\"1\" class=\"dataframe\">\n",
       "  <thead>\n",
       "    <tr style=\"text-align: right;\">\n",
       "      <th></th>\n",
       "      <th>beta</th>\n",
       "      <th>se2</th>\n",
       "      <th>group</th>\n",
       "    </tr>\n",
       "    <tr>\n",
       "      <th>Gene</th>\n",
       "      <th></th>\n",
       "      <th></th>\n",
       "      <th></th>\n",
       "    </tr>\n",
       "  </thead>\n",
       "  <tbody>\n",
       "    <tr>\n",
       "      <th>ENSG00000000419</th>\n",
       "      <td>-1.379858</td>\n",
       "      <td>2.069040</td>\n",
       "      <td>0</td>\n",
       "    </tr>\n",
       "    <tr>\n",
       "      <th>ENSG00000000457</th>\n",
       "      <td>0.505685</td>\n",
       "      <td>0.189008</td>\n",
       "      <td>0</td>\n",
       "    </tr>\n",
       "    <tr>\n",
       "      <th>ENSG00000000460</th>\n",
       "      <td>-0.099481</td>\n",
       "      <td>0.132320</td>\n",
       "      <td>0</td>\n",
       "    </tr>\n",
       "    <tr>\n",
       "      <th>ENSG00000000938</th>\n",
       "      <td>0.686811</td>\n",
       "      <td>0.848559</td>\n",
       "      <td>0</td>\n",
       "    </tr>\n",
       "    <tr>\n",
       "      <th>ENSG00000000971</th>\n",
       "      <td>-0.213458</td>\n",
       "      <td>0.740815</td>\n",
       "      <td>0</td>\n",
       "    </tr>\n",
       "  </tbody>\n",
       "</table>\n",
       "</div>"
      ],
      "text/plain": [
       "                     beta       se2  group\n",
       "Gene                                      \n",
       "ENSG00000000419 -1.379858  2.069040      0\n",
       "ENSG00000000457  0.505685  0.189008      0\n",
       "ENSG00000000460 -0.099481  0.132320      0\n",
       "ENSG00000000938  0.686811  0.848559      0\n",
       "ENSG00000000971 -0.213458  0.740815      0"
      ]
     },
     "execution_count": 42,
     "metadata": {},
     "output_type": "execute_result"
    }
   ],
   "source": [
    "summary_stats['AFR'].head()"
   ]
  },
  {
   "cell_type": "code",
   "execution_count": 43,
   "metadata": {
    "collapsed": false
   },
   "outputs": [
    {
     "data": {
      "text/plain": [
       "False    13207\n",
       "True      3950\n",
       "Name: group, dtype: int64"
      ]
     },
     "execution_count": 43,
     "metadata": {},
     "output_type": "execute_result"
    }
   ],
   "source": [
    "(summary_stats[pop]['group'] == 1).value_counts()"
   ]
  },
  {
   "cell_type": "code",
   "execution_count": 44,
   "metadata": {
    "collapsed": true
   },
   "outputs": [],
   "source": [
    "for pop in tpops:\n",
    "    summary_stats[pop]['enriched'] = summary_stats[pop]['group'] == 1"
   ]
  },
  {
   "cell_type": "code",
   "execution_count": 45,
   "metadata": {
    "collapsed": true
   },
   "outputs": [],
   "source": [
    "sns.set_context('talk', font_scale=1.5)"
   ]
  },
  {
   "cell_type": "code",
   "execution_count": 46,
   "metadata": {
    "collapsed": false
   },
   "outputs": [
    {
     "data": {
      "image/png": "[encoded data removed]",
      "text/plain": [
       "<matplotlib.figure.Figure at 0x2ab200378510>"
      ]
     },
     "metadata": {},
     "output_type": "display_data"
    }
   ],
   "source": [
    "fig, ax = plt.subplots(1, 1, figsize=(9, 7))\n",
    "\n",
    "pop = 'AMR'\n",
    "sum_stats = summary_stats[pop]\n",
    "ires, ores, gamma = piemm_res_01_05_05[pop]\n",
    "sum_stats['group'] = gamma.idxmax(axis=1).values\n",
    "xmax = np.ceil(sum_stats.beta.abs().max())\n",
    "xmax = np.round(sum_stats.beta.abs().max(), 1) + 0.1\n",
    "xmin = -xmax\n",
    "step = (xmax - xmin) / 50.\n",
    "toplot = []\n",
    "for i in [0, 2, 1]:\n",
    "    toplot.append(sum_stats.ix[sum_stats.group == i, 'beta'].values)\n",
    "ax.hist(toplot, stacked=True, bins=np.arange(xmin, xmax + step, step), label=['Same', 'Depleted', 'Enriched'], \n",
    "        color=[sns.color_palette()[2], sns.color_palette()[0], sns.color_palette()[1]])\n",
    "ax.set_xlabel('$\\log$ odds')\n",
    "ax.set_ylabel('Frequency')\n",
    "ax.set_title('LoF enrichment among Latinos')\n",
    "ax.legend()\n",
    "plt.tight_layout()\n",
    "plt.savefig(os.path.join(outdir, 'amr_lof_enr.pdf'))"
   ]
  },
  {
   "cell_type": "code",
   "execution_count": 47,
   "metadata": {
    "collapsed": false
   },
   "outputs": [
    {
     "data": {
      "image/png": "[encoded data removed]",
      "text/plain": [
       "<matplotlib.figure.Figure at 0x2ab200987d10>"
      ]
     },
     "metadata": {},
     "output_type": "display_data"
    }
   ],
   "source": [
    "fig, ax = plt.subplots(1, 1, figsize=(9, 7))\n",
    "\n",
    "pop = 'AMR'\n",
    "sum_stats = summary_stats[pop]\n",
    "ires, ores, gamma = piemm_res_01_05_05[pop]\n",
    "sum_stats['group'] = gamma.idxmax(axis=1).values\n",
    "xmax = np.ceil(sum_stats.beta.abs().max())\n",
    "xmax = np.round(sum_stats.beta.abs().max(), 1) + 0.1\n",
    "xmin = -xmax\n",
    "step = (xmax - xmin) / 50.\n",
    "toplot = []\n",
    "#for i in [0, 2, 1]:\n",
    "#    toplot.append(sum_stats.ix[sum_stats.group == i, 'beta'].values)\n",
    "toplot.append(sum_stats.ix[sum_stats.group != 1, 'beta'].values)\n",
    "toplot.append(sum_stats.ix[sum_stats.group == 1, 'beta'].values)\n",
    "ax.hist(toplot, stacked=True, bins=np.arange(xmin, xmax + step, step), label=['Not enriched', 'Enriched'], \n",
    "        color=[sns.color_palette()[2], sns.color_palette()[0]])\n",
    "ax.set_xlabel('$\\log$ odds')\n",
    "ax.set_ylabel('Frequency')\n",
    "ax.set_title('LoF enrichment among Latinos')\n",
    "ax.legend()\n",
    "plt.tight_layout()\n",
    "#plt.savefig(os.path.join(outdir, 'amr_lof_enr.pdf'))"
   ]
  },
  {
   "cell_type": "code",
   "execution_count": 59,
   "metadata": {
    "collapsed": false
   },
   "outputs": [
    {
     "data": {
      "text/html": [
       "<div>\n",
       "<table border=\"1\" class=\"dataframe\">\n",
       "  <thead>\n",
       "    <tr style=\"text-align: right;\">\n",
       "      <th></th>\n",
       "      <th>odds</th>\n",
       "      <th>diseases</th>\n",
       "    </tr>\n",
       "    <tr>\n",
       "      <th>gene_name</th>\n",
       "      <th></th>\n",
       "      <th></th>\n",
       "    </tr>\n",
       "  </thead>\n",
       "  <tbody>\n",
       "    <tr>\n",
       "      <th>IL2RB</th>\n",
       "      <td>34.1</td>\n",
       "      <td>asthma</td>\n",
       "    </tr>\n",
       "    <tr>\n",
       "      <th>RRM2</th>\n",
       "      <td>26.5</td>\n",
       "      <td>prostate carcinoma</td>\n",
       "    </tr>\n",
       "    <tr>\n",
       "      <th>PPARG</th>\n",
       "      <td>7.7</td>\n",
       "      <td>type 2 diabetes mellitus</td>\n",
       "    </tr>\n",
       "    <tr>\n",
       "      <th>PTGIR</th>\n",
       "      <td>6.8</td>\n",
       "      <td>ulcerative colitis</td>\n",
       "    </tr>\n",
       "    <tr>\n",
       "      <th>CD44</th>\n",
       "      <td>4.8</td>\n",
       "      <td>vitiligo</td>\n",
       "    </tr>\n",
       "    <tr>\n",
       "      <th>C5</th>\n",
       "      <td>3.6</td>\n",
       "      <td>rheumatoid arthritis</td>\n",
       "    </tr>\n",
       "    <tr>\n",
       "      <th>GRIA1</th>\n",
       "      <td>3.3</td>\n",
       "      <td>schizophrenia</td>\n",
       "    </tr>\n",
       "    <tr>\n",
       "      <th>DNMT1</th>\n",
       "      <td>3.3</td>\n",
       "      <td>narcolepsy</td>\n",
       "    </tr>\n",
       "    <tr>\n",
       "      <th>CTLA4</th>\n",
       "      <td>3.3</td>\n",
       "      <td>Graves' disease, alopecia areata, celiac disea...</td>\n",
       "    </tr>\n",
       "    <tr>\n",
       "      <th>ITGA4</th>\n",
       "      <td>3.0</td>\n",
       "      <td>celiac disease</td>\n",
       "    </tr>\n",
       "    <tr>\n",
       "      <th>IFNAR1</th>\n",
       "      <td>2.9</td>\n",
       "      <td>Crohn's disease</td>\n",
       "    </tr>\n",
       "    <tr>\n",
       "      <th>IL6R</th>\n",
       "      <td>2.6</td>\n",
       "      <td>asthma, rheumatoid arthritis</td>\n",
       "    </tr>\n",
       "    <tr>\n",
       "      <th>IL2RA</th>\n",
       "      <td>2.4</td>\n",
       "      <td>Crohn's disease, alopecia areata, inflammatory...</td>\n",
       "    </tr>\n",
       "    <tr>\n",
       "      <th>OPRM1</th>\n",
       "      <td>1.8</td>\n",
       "      <td>chronic lymphocytic leukemia</td>\n",
       "    </tr>\n",
       "  </tbody>\n",
       "</table>\n",
       "</div>"
      ],
      "text/plain": [
       "           odds                                           diseases\n",
       "gene_name                                                         \n",
       "IL2RB      34.1                                             asthma\n",
       "RRM2       26.5                                 prostate carcinoma\n",
       "PPARG       7.7                           type 2 diabetes mellitus\n",
       "PTGIR       6.8                                 ulcerative colitis\n",
       "CD44        4.8                                           vitiligo\n",
       "C5          3.6                               rheumatoid arthritis\n",
       "GRIA1       3.3                                      schizophrenia\n",
       "DNMT1       3.3                                         narcolepsy\n",
       "CTLA4       3.3  Graves' disease, alopecia areata, celiac disea...\n",
       "ITGA4       3.0                                     celiac disease\n",
       "IFNAR1      2.9                                    Crohn's disease\n",
       "IL6R        2.6                       asthma, rheumatoid arthritis\n",
       "IL2RA       2.4  Crohn's disease, alopecia areata, inflammatory...\n",
       "OPRM1       1.8                       chronic lymphocytic leukemia"
      ]
     },
     "execution_count": 59,
     "metadata": {},
     "output_type": "execute_result"
    }
   ],
   "source": [
    "t = fda.ix[amr_enriched].dropna(subset=['AMR_beta'])\n",
    "t = t[t.AC_AMR != 0]\n",
    "t = gwas_genes_power.ix[gtable.ix[t.index, 'gene_name']].dropna()\n",
    "t['diseases'] = ''\n",
    "for i in t.index:\n",
    "    se = t.ix[i]\n",
    "    d = se[:-22]\n",
    "    t.ix[i, 'diseases'] = ', '.join(d[d > 0].index)\n",
    "t['odds'] = (np.e ** (fda.ix[gn_to_gid[t.index], 'AMR_beta'])).astype(float).round(1).values\n",
    "t[['odds', 'diseases']].sort_values(by='odds', ascending=False).to_excel('amr_fda_gwas_odds.xls')\n",
    "t[['odds', 'diseases']].sort_values(by='odds', ascending=False)"
   ]
  },
  {
   "cell_type": "code",
   "execution_count": 136,
   "metadata": {
    "collapsed": false
   },
   "outputs": [
    {
     "data": {
      "image/png": "[encoded data removed]",
      "text/plain": [
       "<matplotlib.figure.Figure at 0x2ab1e42fde90>"
      ]
     },
     "metadata": {},
     "output_type": "display_data"
    }
   ],
   "source": [
    "tdf = gwas_genes_power[gwas_genes_power[gsp_diseases].sum(axis=1) > 0]\n",
    "tdf = tdf[tdf.AF_AMR > 0]\n",
    "a = tdf[tdf['NFE_rr4'] > tdf['AMR_rr4']]\n",
    "b = tdf[tdf['NFE_rr4'] < tdf['AMR_rr4']]\n",
    "\n",
    "fig = plt.figure(figsize=(7, 7))\n",
    "gs = gridspec.GridSpec(2, 1, height_ratios=[0.95, 0.05])\n",
    "\n",
    "ax = fig.add_subplot(gs[0, 0])\n",
    "ax.set_xlabel('Power in Europeans')\n",
    "ax.set_ylabel('Power in Latinos')\n",
    "ax.add_patch(mpl.patches.Rectangle((0, 0.8), 0.8, 0.2, color=sns.color_palette()[3], alpha=0.25, zorder=1))\n",
    "ax.add_patch(mpl.patches.Rectangle((0.8, 0), 0.2, 0.8, color=sns.color_palette()[4], alpha=0.25, zorder=1))\n",
    "ax.add_patch(mpl.patches.Rectangle((0.8, 0.8), 0.2, 0.2, color=sns.color_palette()[5], alpha=0.25, zorder=1))\n",
    "ax.scatter(a['NFE_rr4'], a['AMR_rr4'], alpha=0.75, zorder=2)\n",
    "ax.scatter(b['NFE_rr4'], b['AMR_rr4'], alpha=0.75, zorder=2)\n",
    "ax.set_title('Power to detect gene-disease associations')\n",
    "ax.plot([0, 1], [0, 1], color='grey', ls='--')\n",
    "\n",
    "ax = fig.add_subplot(gs[1, 0])\n",
    "ax.get_xaxis().set_ticks([])\n",
    "ax.get_yaxis().set_ticks([])\n",
    "for sp in ax.spines.values():\n",
    "    sp.set_visible(False)\n",
    "ax.set_facecolor('white')\n",
    "rects = [plt.Rectangle((0, 0), 0, 0, fc=sns.color_palette()[3]), \n",
    "         plt.Rectangle((0, 0), 0, 0, fc=sns.color_palette()[4]),\n",
    "         plt.Rectangle((0, 0), 0, 0, fc=sns.color_palette()[5])]\n",
    "lgd = ax.legend(rects, ['Powered in Latinos', 'Powered in Europeans', 'Powered in both'], \n",
    "                loc='upper center', frameon=False, prop={'size':16}, ncol=2)\n",
    "\n",
    "gs.tight_layout(fig, rect = [0, 0.1, 1, 1])\n",
    "plt.savefig(os.path.join(outdir, 'gene_disease_assoc_power.pdf'))"
   ]
  },
  {
   "cell_type": "code",
   "execution_count": 172,
   "metadata": {
    "collapsed": false
   },
   "outputs": [
    {
     "data": {
      "text/html": [
       "<div>\n",
       "<table border=\"1\" class=\"dataframe\">\n",
       "  <thead>\n",
       "    <tr style=\"text-align: right;\">\n",
       "      <th></th>\n",
       "      <th>AMR_rr4</th>\n",
       "      <th>NFE_rr4</th>\n",
       "      <th>diseases</th>\n",
       "    </tr>\n",
       "    <tr>\n",
       "      <th>gene_name</th>\n",
       "      <th></th>\n",
       "      <th></th>\n",
       "      <th></th>\n",
       "    </tr>\n",
       "  </thead>\n",
       "  <tbody>\n",
       "    <tr>\n",
       "      <th>PTGDR2</th>\n",
       "      <td>1.000000</td>\n",
       "      <td>0.000977</td>\n",
       "      <td>IBD</td>\n",
       "    </tr>\n",
       "    <tr>\n",
       "      <th>IL2RB</th>\n",
       "      <td>1.000000</td>\n",
       "      <td>0.007739</td>\n",
       "      <td>asthma</td>\n",
       "    </tr>\n",
       "    <tr>\n",
       "      <th>CCL7</th>\n",
       "      <td>1.000000</td>\n",
       "      <td>0.028092</td>\n",
       "      <td>Crohn's disease, IBD</td>\n",
       "    </tr>\n",
       "    <tr>\n",
       "      <th>RBPJ</th>\n",
       "      <td>1.000000</td>\n",
       "      <td>0.016931</td>\n",
       "      <td>rheumatoid arthritis, T1D</td>\n",
       "    </tr>\n",
       "    <tr>\n",
       "      <th>IL19</th>\n",
       "      <td>1.000000</td>\n",
       "      <td>0.100979</td>\n",
       "      <td>Crohn's disease, IBD, ulcerative colitis</td>\n",
       "    </tr>\n",
       "    <tr>\n",
       "      <th>ATXN2L</th>\n",
       "      <td>1.000000</td>\n",
       "      <td>0.360661</td>\n",
       "      <td>IBD</td>\n",
       "    </tr>\n",
       "    <tr>\n",
       "      <th>GSDMB</th>\n",
       "      <td>1.000000</td>\n",
       "      <td>0.791866</td>\n",
       "      <td>Crohn's disease, asthma, IBD, primary biliary ...</td>\n",
       "    </tr>\n",
       "    <tr>\n",
       "      <th>KIAA1841</th>\n",
       "      <td>0.999999</td>\n",
       "      <td>0.682694</td>\n",
       "      <td>Crohn's disease, IBD</td>\n",
       "    </tr>\n",
       "    <tr>\n",
       "      <th>TMBIM1</th>\n",
       "      <td>0.999989</td>\n",
       "      <td>0.520112</td>\n",
       "      <td>IBD</td>\n",
       "    </tr>\n",
       "    <tr>\n",
       "      <th>YDJC</th>\n",
       "      <td>0.999968</td>\n",
       "      <td>0.153409</td>\n",
       "      <td>Crohn's disease, immune system disease, IBD, r...</td>\n",
       "    </tr>\n",
       "    <tr>\n",
       "      <th>HHIPL1</th>\n",
       "      <td>0.999697</td>\n",
       "      <td>0.618893</td>\n",
       "      <td>coronary artery disease</td>\n",
       "    </tr>\n",
       "    <tr>\n",
       "      <th>SRR</th>\n",
       "      <td>0.999690</td>\n",
       "      <td>0.285515</td>\n",
       "      <td>coronary artery disease, schizophrenia, type 2...</td>\n",
       "    </tr>\n",
       "  </tbody>\n",
       "</table>\n",
       "</div>"
      ],
      "text/plain": [
       "            AMR_rr4   NFE_rr4  \\\n",
       "gene_name                       \n",
       "PTGDR2     1.000000  0.000977   \n",
       "IL2RB      1.000000  0.007739   \n",
       "CCL7       1.000000  0.028092   \n",
       "RBPJ       1.000000  0.016931   \n",
       "IL19       1.000000  0.100979   \n",
       "ATXN2L     1.000000  0.360661   \n",
       "GSDMB      1.000000  0.791866   \n",
       "KIAA1841   0.999999  0.682694   \n",
       "TMBIM1     0.999989  0.520112   \n",
       "YDJC       0.999968  0.153409   \n",
       "HHIPL1     0.999697  0.618893   \n",
       "SRR        0.999690  0.285515   \n",
       "\n",
       "                                                    diseases  \n",
       "gene_name                                                     \n",
       "PTGDR2                                                   IBD  \n",
       "IL2RB                                                 asthma  \n",
       "CCL7                                    Crohn's disease, IBD  \n",
       "RBPJ                               rheumatoid arthritis, T1D  \n",
       "IL19                Crohn's disease, IBD, ulcerative colitis  \n",
       "ATXN2L                                                   IBD  \n",
       "GSDMB      Crohn's disease, asthma, IBD, primary biliary ...  \n",
       "KIAA1841                                Crohn's disease, IBD  \n",
       "TMBIM1                                                   IBD  \n",
       "YDJC       Crohn's disease, immune system disease, IBD, r...  \n",
       "HHIPL1                               coronary artery disease  \n",
       "SRR        coronary artery disease, schizophrenia, type 2...  "
      ]
     },
     "execution_count": 172,
     "metadata": {},
     "output_type": "execute_result"
    }
   ],
   "source": [
    "tdf = gwas_genes_power[gwas_genes_power[gsp_diseases].sum(axis=1) > 0]\n",
    "tdf = tdf[tdf.AF_AMR > 0]\n",
    "tdf = tdf[(tdf['AMR_rr4'] > 0.8) & (tdf['NFE_rr4'] < 0.8)]\n",
    "tdf = tdf.sort_values(by='AMR_rr4', ascending=False)\n",
    "tdf['diseases'] = ''\n",
    "for i in tdf.index:\n",
    "    se = tdf.ix[i]\n",
    "    d = se[:-22]\n",
    "    tdf.ix[i, 'diseases'] = ', '.join(d[d > 0].index)\n",
    "tdf['diseases'] = tdf['diseases'].apply(lambda x: x.replace('type 1 diabetes mellitus', 'T1D'))\n",
    "tdf['diseases'] = tdf['diseases'].apply(lambda x: x.replace('inflammatory bowel disease', 'IBD'))\n",
    "tdf['diseases'] = tdf['diseases'].apply(lambda x: x.replace('epilepsy syndrome', 'epilepsy'))\n",
    "tdf['diseases'] = tdf['diseases'].apply(lambda x: x.replace('autistic disorder', 'autism'))\n",
    "tdf[['AMR_rr4', 'NFE_rr4', 'diseases']].round(2).to_excel('amr_nfe_power.xls')\n",
    "tdf[['AMR_rr4', 'NFE_rr4', 'diseases']].head(12)"
   ]
  },
  {
   "cell_type": "code",
   "execution_count": 50,
   "metadata": {
    "collapsed": false
   },
   "outputs": [
    {
     "data": {
      "image/png": "[encoded data removed]",
      "text/plain": [
       "<matplotlib.figure.Figure at 0x2ab1e41a4510>"
      ]
     },
     "metadata": {},
     "output_type": "display_data"
    }
   ],
   "source": [
    "fig, axs = plt.subplots(1, 2, figsize=(8, 5))\n",
    "\n",
    "ax = axs[0]\n",
    "pop = 'AMR'\n",
    "sum_stats = summary_stats[pop]\n",
    "ires, ores, gamma = piemm_res_01_05_05[pop]\n",
    "sum_stats['group'] = gamma.idxmax(axis=1).values\n",
    "xmax = np.ceil(sum_stats.beta.abs().max())\n",
    "xmax = np.round(sum_stats.beta.abs().max(), 1) + 0.1\n",
    "xmin = -xmax\n",
    "step = (xmax - xmin) / 50.\n",
    "toplot = []\n",
    "for i in [0, 2, 1]:\n",
    "    toplot.append(sum_stats.ix[sum_stats.group == i, 'beta'].values)\n",
    "ax.hist(toplot, stacked=True, bins=np.arange(xmin, xmax + step, step), label=['Same', 'Depleted', 'Enriched'], \n",
    "        color=[sns.color_palette()[2], sns.color_palette()[0], sns.color_palette()[1]])\n",
    "ax.set_xlabel('$\\log$ odds')\n",
    "ax.set_ylabel('Frequency')\n",
    "ax.set_title('Latino')\n",
    "ax.legend()\n",
    "\n",
    "ax = axs[1]\n",
    "pop = 'AFR'\n",
    "sum_stats = summary_stats[pop]\n",
    "ires, ores, gamma = piemm_res_01_05_05[pop]\n",
    "sum_stats['group'] = gamma.idxmax(axis=1).values\n",
    "xmax = np.ceil(sum_stats.beta.abs().max())\n",
    "xmax = np.round(sum_stats.beta.abs().max(), 1) + 0.1\n",
    "xmin = -xmax\n",
    "step = (xmax - xmin) / 50.\n",
    "toplot = []\n",
    "for i in  [0, 2, 1]:\n",
    "    toplot.append(sum_stats.ix[sum_stats.group == i, 'beta'].values)\n",
    "ax.hist(toplot, stacked=True, bins=np.arange(xmin, xmax + step, step), label=['Same', 'Depleted', 'Enriched'], \n",
    "        color=[sns.color_palette()[2], sns.color_palette()[0], sns.color_palette()[1]])\n",
    "ax.set_xlabel('$\\log$ odds')\n",
    "ax.set_title('African Americans')\n",
    "ax.legend();"
   ]
  },
  {
   "cell_type": "code",
   "execution_count": 51,
   "metadata": {
    "collapsed": false
   },
   "outputs": [
    {
     "data": {
      "text/html": [
       "<div>\n",
       "<table border=\"1\" class=\"dataframe\">\n",
       "  <thead>\n",
       "    <tr style=\"text-align: right;\">\n",
       "      <th></th>\n",
       "      <th>symbol</th>\n",
       "      <th>AFR_beta</th>\n",
       "      <th>AMR_beta</th>\n",
       "      <th>AF_AFR</th>\n",
       "      <th>AF_AMR</th>\n",
       "      <th>AF_NFE</th>\n",
       "      <th>AC_AFR</th>\n",
       "      <th>AC_AMR</th>\n",
       "      <th>AC_NFE</th>\n",
       "    </tr>\n",
       "  </thead>\n",
       "  <tbody>\n",
       "    <tr>\n",
       "      <th>ENSG00000120885</th>\n",
       "      <td>CLU</td>\n",
       "      <td>4.8203</td>\n",
       "      <td>1.99008</td>\n",
       "      <td>0.019068</td>\n",
       "      <td>0.001133</td>\n",
       "      <td>0.000153</td>\n",
       "      <td>291</td>\n",
       "      <td>38</td>\n",
       "      <td>17</td>\n",
       "    </tr>\n",
       "    <tr>\n",
       "      <th>ENSG00000002822</th>\n",
       "      <td>MAD1L1</td>\n",
       "      <td>3.16246</td>\n",
       "      <td>NaN</td>\n",
       "      <td>0.016520</td>\n",
       "      <td>0.000929</td>\n",
       "      <td>0.000707</td>\n",
       "      <td>248</td>\n",
       "      <td>31</td>\n",
       "      <td>78</td>\n",
       "    </tr>\n",
       "  </tbody>\n",
       "</table>\n",
       "</div>"
      ],
      "text/plain": [
       "                 symbol AFR_beta AMR_beta    AF_AFR    AF_AMR    AF_NFE  \\\n",
       "ENSG00000120885     CLU   4.8203  1.99008  0.019068  0.001133  0.000153   \n",
       "ENSG00000002822  MAD1L1  3.16246      NaN  0.016520  0.000929  0.000707   \n",
       "\n",
       "                 AC_AFR  AC_AMR  AC_NFE  \n",
       "ENSG00000120885     291      38      17  \n",
       "ENSG00000002822     248      31      78  "
      ]
     },
     "execution_count": 51,
     "metadata": {},
     "output_type": "execute_result"
    }
   ],
   "source": [
    "schiz[schiz.AF_AFR > 0.01]"
   ]
  },
  {
   "cell_type": "code",
   "execution_count": 52,
   "metadata": {
    "collapsed": false
   },
   "outputs": [
    {
     "data": {
      "text/plain": [
       "symbol          TSNARE1\n",
       "AFR_beta         4.8203\n",
       "AMR_beta        1.99008\n",
       "AF_AFR        0.0190682\n",
       "AF_AMR       0.00113264\n",
       "AF_NFE      0.000707278\n",
       "AC_AFR              291\n",
       "AC_AMR               38\n",
       "AC_NFE               78\n",
       "dtype: object"
      ]
     },
     "execution_count": 52,
     "metadata": {},
     "output_type": "execute_result"
    }
   ],
   "source": [
    "schiz.max()"
   ]
  },
  {
   "cell_type": "code",
   "execution_count": 53,
   "metadata": {
    "collapsed": false
   },
   "outputs": [
    {
     "data": {
      "text/html": [
       "<div>\n",
       "<table border=\"1\" class=\"dataframe\">\n",
       "  <thead>\n",
       "    <tr style=\"text-align: right;\">\n",
       "      <th></th>\n",
       "      <th>symbol</th>\n",
       "      <th>AFR_beta</th>\n",
       "      <th>AMR_beta</th>\n",
       "      <th>AF_AFR</th>\n",
       "      <th>AF_AMR</th>\n",
       "      <th>AF_NFE</th>\n",
       "      <th>AC_AFR</th>\n",
       "      <th>AC_AMR</th>\n",
       "      <th>AC_NFE</th>\n",
       "    </tr>\n",
       "  </thead>\n",
       "  <tbody>\n",
       "    <tr>\n",
       "      <th>ENSG00000176920</th>\n",
       "      <td>FUT2</td>\n",
       "      <td>4.57189</td>\n",
       "      <td>2.52202</td>\n",
       "      <td>0.024084</td>\n",
       "      <td>0.003157</td>\n",
       "      <td>0.000251</td>\n",
       "      <td>368</td>\n",
       "      <td>106</td>\n",
       "      <td>28</td>\n",
       "    </tr>\n",
       "    <tr>\n",
       "      <th>ENSG00000142224</th>\n",
       "      <td>IL19</td>\n",
       "      <td>4.79229</td>\n",
       "      <td>2.33665</td>\n",
       "      <td>0.010131</td>\n",
       "      <td>0.000865</td>\n",
       "      <td>0.000081</td>\n",
       "      <td>155</td>\n",
       "      <td>29</td>\n",
       "      <td>9</td>\n",
       "    </tr>\n",
       "  </tbody>\n",
       "</table>\n",
       "</div>"
      ],
      "text/plain": [
       "                symbol AFR_beta AMR_beta    AF_AFR    AF_AMR    AF_NFE  \\\n",
       "ENSG00000176920   FUT2  4.57189  2.52202  0.024084  0.003157  0.000251   \n",
       "ENSG00000142224   IL19  4.79229  2.33665  0.010131  0.000865  0.000081   \n",
       "\n",
       "                 AC_AFR  AC_AMR  AC_NFE  \n",
       "ENSG00000176920     368     106      28  \n",
       "ENSG00000142224     155      29       9  "
      ]
     },
     "execution_count": 53,
     "metadata": {},
     "output_type": "execute_result"
    }
   ],
   "source": [
    "ibd[ibd.AF_AFR > 0.01]"
   ]
  },
  {
   "cell_type": "code",
   "execution_count": 54,
   "metadata": {
    "collapsed": false
   },
   "outputs": [
    {
     "ename": "SyntaxError",
     "evalue": "invalid syntax (<ipython-input-54-4715fb1d5390>, line 1)",
     "output_type": "error",
     "traceback": [
      "\u001b[0;36m  File \u001b[0;32m\"<ipython-input-54-4715fb1d5390>\"\u001b[0;36m, line \u001b[0;32m1\u001b[0m\n\u001b[0;31m    3 +\u001b[0m\n\u001b[0m        ^\u001b[0m\n\u001b[0;31mSyntaxError\u001b[0m\u001b[0;31m:\u001b[0m invalid syntax\n"
     ]
    }
   ],
   "source": [
    "3 + "
   ]
  },
  {
   "cell_type": "markdown",
   "metadata": {},
   "source": [
    "### Heterogeneity\n",
    "\n",
    "I'd like to look and see whether LoF variants are evenly distributed across\n",
    "alleles or whether they are driven by a small number of varaints for each gene."
   ]
  },
  {
   "cell_type": "code",
   "execution_count": null,
   "metadata": {
    "collapsed": true
   },
   "outputs": [],
   "source": [
    "vc = lof_only_f.Gene.value_counts()"
   ]
  },
  {
   "cell_type": "code",
   "execution_count": null,
   "metadata": {
    "collapsed": false
   },
   "outputs": [],
   "source": [
    "pvals = []\n",
    "for gene in afr_enriched:\n",
    "    se = lof_only_f.ix[lof_only_f.Gene == gene, 'AC_AFR']\n",
    "    pvals.append(stats.chisquare(se[se > 0])[1])"
   ]
  },
  {
   "cell_type": "code",
   "execution_count": null,
   "metadata": {
    "collapsed": true
   },
   "outputs": [],
   "source": [
    "pd.Series(pvals).dropna().hist()"
   ]
  }
 ],
 "metadata": {
  "anaconda-cloud": {},
  "kernelspec": {
   "display_name": "Python 2",
   "language": "python",
   "name": "python2"
  },
  "language_info": {
   "codemirror_mode": {
    "name": "ipython",
    "version": 2
   },
   "file_extension": ".py",
   "mimetype": "text/x-python",
   "name": "python",
   "nbconvert_exporter": "python",
   "pygments_lexer": "ipython2",
   "version": "2.7.13"
  }
 },
 "nbformat": 4,
 "nbformat_minor": 1
}
