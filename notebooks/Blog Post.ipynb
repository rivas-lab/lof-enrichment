{
 "cells": [
  {
   "cell_type": "markdown",
   "metadata": {},
   "source": [
    "# Loss of Function variants in different populations\n",
    "\n",
    "With the recent release of gnomAD allele frequencies, we have more info than ever before\n",
    "on allele frequencies for rare variants, especially in non-European populations.\n",
    "\n",
    "Non-European populations are underrepresented in GWAS [cite Alice's paper]. This can cause\n",
    "bad predictions from GWAS results for non-Europeans [cite Alicia's paper]. However, we are\n",
    "also missing a lot of diversity. PCSK9 for instance was discovered in African (American?)\n",
    "subjects.\n",
    "\n",
    "One thing that we are interested in is enumerating the function of every human gene by \n",
    "associating loss-of-function variants in each gene with various human phenotypes. By limiting\n",
    "ourselves to European subjects, we may be missing a lot of LoF variants. Let's take a look\n",
    "at what we can learn from AFR and AMR populations."
   ]
  }
 ],
 "metadata": {
  "kernelspec": {
   "display_name": "Python 2",
   "language": "python",
   "name": "python2"
  },
  "language_info": {
   "codemirror_mode": {
    "name": "ipython",
    "version": 2
   },
   "file_extension": ".py",
   "mimetype": "text/x-python",
   "name": "python",
   "nbconvert_exporter": "python",
   "pygments_lexer": "ipython2",
   "version": "2.7.13"
  }
 },
 "nbformat": 4,
 "nbformat_minor": 2
}
