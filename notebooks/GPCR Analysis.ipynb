{
 "cells": [
  {
   "cell_type": "markdown",
   "metadata": {},
   "source": [
    "# GPCR Analysis"
   ]
  },
  {
   "cell_type": "code",
   "execution_count": 1,
   "metadata": {
    "collapsed": false
   },
   "outputs": [],
   "source": [
    "import glob\n",
    "import os\n",
    "import subprocess\n",
    "\n",
    "import matplotlib as mpl\n",
    "import matplotlib.gridspec as gridspec\n",
    "import matplotlib.pyplot as plt\n",
    "import numpy as np\n",
    "import pandas as pd\n",
    "import scipy.stats as stats\n",
    "import seaborn as sns\n",
    "plt.rcParams['font.sans-serif'] = ['Helvetica'] + plt.rcParams['font.sans-serif']\n",
    "\n",
    "from IPython.display import display, HTML\n",
    "\n",
    "%matplotlib inline\n",
    "\n",
    "outdir = '../output/gpcr_analysis'\n",
    "if not os.path.exists(outdir):\n",
    "    os.makedirs(outdir)\n",
    "private_outdir = '../private_output/gpcr_analysis'\n",
    "if not os.path.exists(private_outdir):\n",
    "    os.makedirs(private_outdir)"
   ]
  },
  {
   "cell_type": "code",
   "execution_count": 2,
   "metadata": {
    "collapsed": true
   },
   "outputs": [],
   "source": [
    "fn = '/srv/gsfs0/projects/rivas/data/gencode.v19_20170302/parsing/gencode.v19.annotation.table.tsv'\n",
    "if not os.path.exists(fn):\n",
    "    fn = '/oak/stanford/groups/mrivas/public_data/gencode.v19_20170526/parsing/gencode.v19.annotation.table.tsv'\n",
    "gtable = pd.read_table(fn, index_col=0)\n",
    "gtable['gencode_id'] = gtable.index\n",
    "gtable.index = [x.split('.')[0] for x in gtable.index]"
   ]
  },
  {
   "cell_type": "code",
   "execution_count": 3,
   "metadata": {
    "collapsed": true
   },
   "outputs": [],
   "source": [
    "gpcr_genes = pd.read_table('../data/drug_target_gpcrs.txt')"
   ]
  },
  {
   "cell_type": "code",
   "execution_count": 4,
   "metadata": {
    "collapsed": false
   },
   "outputs": [
    {
     "name": "stderr",
     "output_type": "stream",
     "text": [
      "/share/PI/mrivas/anaconda/3.5/envs/lof-enrichment/lib/python2.7/site-packages/IPython/core/interactiveshell.py:2717: DtypeWarning: Columns (3,4,5,6) have mixed types. Specify dtype option on import or set low_memory=False.\n",
      "  interactivity=interactivity, compiler=compiler, result=result)\n"
     ]
    }
   ],
   "source": [
    "array = pd.read_csv('/share/PI/mrivas/data/ukbb/array/Axiom_UKB_WCSG.na34.annot.csv.gz', \n",
    "                    skiprows=19)\n",
    "array['position'] = (array['Chromosome'].astype(str) + ':' + \n",
    "                     array['Physical Position'].astype(str))\n",
    "array_snps = array[array['dbSNP Loctype'].astype(str) == '2']"
   ]
  },
  {
   "cell_type": "code",
   "execution_count": 5,
   "metadata": {
    "collapsed": false
   },
   "outputs": [],
   "source": [
    "fn = '../output/amr_allele_list/missense_lof.tsv'\n",
    "vrs = pd.read_table(fn,\n",
    "                    dtype={'CHROM':str, 'POS':int, 'REF':str, 'ALT':str, 'AC_AFR':int, 'AC_AMR':int, \n",
    "                           'AC_ASJ':int, 'AC_EAS':int, 'AC_FIN':int, 'AC_NFE':int, 'AC_OTH':int, \n",
    "                           'AC_SAS':int, 'AN_AFR':int, 'AN_AMR':int, 'AN_ASJ':int, 'AN_EAS':int, \n",
    "                           'AN_FIN':int, 'AN_NFE':int, 'AN_OTH':int, 'AN_SAS':int, 'Allele':str,\n",
    "                           'Consequence':str, 'IMPACT':str, 'Gene':str, 'BIOTYPE':str, 'SIFT':str, \n",
    "                           'PolyPhen':str, 'CLIN_SIG':str, 'LoF':str, 'LoF_filter':str, \n",
    "                           'LoF_flags':str, 'LoF_info':str})"
   ]
  },
  {
   "cell_type": "code",
   "execution_count": 6,
   "metadata": {
    "collapsed": true
   },
   "outputs": [],
   "source": [
    "pops = [x.split('_')[1] for x in vrs.columns if 'AC_' in x]\n",
    "for pop in pops:\n",
    "    vrs['AF_{}'.format(pop)] = vrs['AC_{}'.format(pop)].astype(float) / vrs['AN_{}'.format(pop)]"
   ]
  },
  {
   "cell_type": "code",
   "execution_count": 7,
   "metadata": {
    "collapsed": false
   },
   "outputs": [],
   "source": [
    "# Maximum number of chromosomes genotyped per population.\n",
    "pop_max = vrs[['AN_{}'.format(x) for x in pops]].max()\n",
    "pop_max.index = [x.split('_')[1] for x in pop_max.index]"
   ]
  },
  {
   "cell_type": "code",
   "execution_count": 8,
   "metadata": {
    "collapsed": true
   },
   "outputs": [],
   "source": [
    "pops = [x.split('_')[1] for x in vrs.columns if 'AC_' in x]\n",
    "for pop in pops:\n",
    "    vrs['AF_{}'.format(pop)] = vrs['AC_{}'.format(pop)].astype(float) / vrs['AN_{}'.format(pop)]\n",
    "    \n",
    "for pop in pops:\n",
    "    vrs['GP_{}'.format(pop)] = vrs['AN_{}'.format(pop)].astype(float) / pop_max[pop]"
   ]
  },
  {
   "cell_type": "code",
   "execution_count": 9,
   "metadata": {
    "collapsed": false
   },
   "outputs": [],
   "source": [
    "# Remove variants that aren't in GCPR genes.\n",
    "s = set(gpcr_genes['HGNC symbol'])\n",
    "s = gtable[gtable.gene_name.apply(lambda x: x in s)].index\n",
    "vrs_f = vrs[vrs.Gene.apply(lambda x: x in s)]\n",
    "# Remove variants that have no alternate alleles in NFE.\n",
    "vrs_f = vrs_f[vrs_f['AC_NFE'] != 0]\n",
    "# Remove sites that weren't called for at least 80% of haplotypes in all \n",
    "# populations. These sites may not be accurately genotyped.\n",
    "cols = [x for x in vrs_f.columns if 'GP_' in x]\n",
    "m = vrs_f[cols].min(axis=1)\n",
    "vrs_f = vrs_f[m > 0.8]\n",
    "vrs_f['position'] = vrs_f['CHROM'] + ':' + vrs_f['POS'].astype(str)\n",
    "# Remove X chromosome variants.\n",
    "vrs_f = vrs_f[vrs_f['CHROM'] != 'X']\n",
    "# Split into missense and loss of function variants.\n",
    "lof = vrs_f[vrs_f['LoF'] == 'HC']\n",
    "missense = vrs_f[vrs_f['LoF'].isnull()]"
   ]
  },
  {
   "cell_type": "code",
   "execution_count": 10,
   "metadata": {
    "collapsed": false
   },
   "outputs": [
    {
     "name": "stdout",
     "output_type": "stream",
     "text": [
      "38,936 total GCPR variants (2,657 LoF, 36,099 missense) in gnomad\n"
     ]
    }
   ],
   "source": [
    "a = vrs_f.shape[0]\n",
    "b = lof.shape[0]\n",
    "c = missense.shape[0]\n",
    "print('{:,} total GCPR variants ({:,} LoF, {:,} missense) in gnomad'.format(\n",
    "    a, b,c ))"
   ]
  },
  {
   "cell_type": "code",
   "execution_count": 11,
   "metadata": {
    "collapsed": false
   },
   "outputs": [
    {
     "name": "stdout",
     "output_type": "stream",
     "text": [
      "1,129 (96 LoF) GPCR variants on genotyping array.\n"
     ]
    }
   ],
   "source": [
    "shared = (set(vrs_f['position']) & set(array_snps['position']))\n",
    "not_on_array = list(set(vrs_f['position']) - shared)\n",
    "lof_shared = (set(lof['position']) & set(array_snps['position']))\n",
    "gpcr_ukb = vrs_f[vrs_f['position'].apply(lambda x: x in shared)]\n",
    "print('{:,} ({:,} LoF) GPCR variants on genotyping array.'.format(\n",
    "    len(shared), len(lof_shared)))"
   ]
  },
  {
   "cell_type": "code",
   "execution_count": 12,
   "metadata": {
    "collapsed": false
   },
   "outputs": [
    {
     "data": {
      "text/plain": [
       "(0, 0.1]      2655\n",
       "(0.1, 0.2]       1\n",
       "(0.2, 0.3]       1\n",
       "(0.3, 0.4]       0\n",
       "(0.4, 0.5]       0\n",
       "(0.5, 0.6]       0\n",
       "(0.6, 0.7]       0\n",
       "(0.7, 0.8]       0\n",
       "(0.8, 0.9]       0\n",
       "(0.9, 1]         0\n",
       "Name: AF_NFE, dtype: int64"
      ]
     },
     "execution_count": 12,
     "metadata": {},
     "output_type": "execute_result"
    }
   ],
   "source": [
    "pd.cut(lof.AF_NFE, np.arange(0, 1.1, 0.1)).value_counts().sort_index()"
   ]
  },
  {
   "cell_type": "code",
   "execution_count": 13,
   "metadata": {
    "collapsed": false
   },
   "outputs": [
    {
     "data": {
      "text/plain": [
       "(0, 0.1]      35935\n",
       "(0.1, 0.2]       47\n",
       "(0.2, 0.3]       25\n",
       "(0.3, 0.4]       16\n",
       "(0.4, 0.5]       14\n",
       "(0.5, 0.6]       15\n",
       "(0.6, 0.7]       10\n",
       "(0.7, 0.8]        8\n",
       "(0.8, 0.9]        4\n",
       "(0.9, 1]         25\n",
       "Name: AF_NFE, dtype: int64"
      ]
     },
     "execution_count": 13,
     "metadata": {},
     "output_type": "execute_result"
    }
   ],
   "source": [
    "pd.cut(missense.AF_NFE, np.arange(0, 1.1, 0.1)).value_counts().sort_index()"
   ]
  },
  {
   "cell_type": "markdown",
   "metadata": {},
   "source": [
    "We can see that most of the variants are on the lower end of the frequency spectrum\n",
    "as we'd expect."
   ]
  },
  {
   "cell_type": "code",
   "execution_count": 14,
   "metadata": {
    "collapsed": false
   },
   "outputs": [],
   "source": [
    "to_drop = [x for x in gpcr_ukb.columns if ('AC_' in x) or ('AN_' in x) or \n",
    "          ('AF_' in x) or ('GP_' in x)]\n",
    "to_drop = [x for x in to_drop if 'NFE' not in x]\n",
    "gpcr_ukb = gpcr_ukb.drop(to_drop, axis=1)"
   ]
  },
  {
   "cell_type": "code",
   "execution_count": 15,
   "metadata": {
    "collapsed": false
   },
   "outputs": [
    {
     "data": {
      "text/html": [
       "<div>\n",
       "<table border=\"1\" class=\"dataframe\">\n",
       "  <thead>\n",
       "    <tr style=\"text-align: right;\">\n",
       "      <th></th>\n",
       "      <th>CHROM</th>\n",
       "      <th>POS</th>\n",
       "      <th>REF</th>\n",
       "      <th>ALT</th>\n",
       "      <th>AC_NFE</th>\n",
       "      <th>AN_NFE</th>\n",
       "      <th>Allele</th>\n",
       "      <th>Consequence</th>\n",
       "      <th>IMPACT</th>\n",
       "      <th>Gene</th>\n",
       "      <th>...</th>\n",
       "      <th>SIFT</th>\n",
       "      <th>PolyPhen</th>\n",
       "      <th>CLIN_SIG</th>\n",
       "      <th>LoF</th>\n",
       "      <th>LoF_filter</th>\n",
       "      <th>LoF_flags</th>\n",
       "      <th>LoF_info</th>\n",
       "      <th>AF_NFE</th>\n",
       "      <th>GP_NFE</th>\n",
       "      <th>position</th>\n",
       "    </tr>\n",
       "  </thead>\n",
       "  <tbody>\n",
       "    <tr>\n",
       "      <th>8128</th>\n",
       "      <td>1</td>\n",
       "      <td>1267040</td>\n",
       "      <td>T</td>\n",
       "      <td>C</td>\n",
       "      <td>2</td>\n",
       "      <td>109110</td>\n",
       "      <td>C</td>\n",
       "      <td>missense_variant</td>\n",
       "      <td>MODERATE</td>\n",
       "      <td>ENSG00000169962</td>\n",
       "      <td>...</td>\n",
       "      <td>tolerated(0.1)</td>\n",
       "      <td>probably_damaging(0.975)</td>\n",
       "      <td>NaN</td>\n",
       "      <td>NaN</td>\n",
       "      <td>NaN</td>\n",
       "      <td>NaN</td>\n",
       "      <td>NaN</td>\n",
       "      <td>0.000018</td>\n",
       "      <td>0.976638</td>\n",
       "      <td>1:1267040</td>\n",
       "    </tr>\n",
       "    <tr>\n",
       "      <th>8129</th>\n",
       "      <td>1</td>\n",
       "      <td>1267040</td>\n",
       "      <td>T</td>\n",
       "      <td>G</td>\n",
       "      <td>24</td>\n",
       "      <td>109110</td>\n",
       "      <td>G</td>\n",
       "      <td>missense_variant</td>\n",
       "      <td>MODERATE</td>\n",
       "      <td>ENSG00000169962</td>\n",
       "      <td>...</td>\n",
       "      <td>deleterious(0.05)</td>\n",
       "      <td>benign(0.284)</td>\n",
       "      <td>NaN</td>\n",
       "      <td>NaN</td>\n",
       "      <td>NaN</td>\n",
       "      <td>NaN</td>\n",
       "      <td>NaN</td>\n",
       "      <td>0.000220</td>\n",
       "      <td>0.976638</td>\n",
       "      <td>1:1267040</td>\n",
       "    </tr>\n",
       "    <tr>\n",
       "      <th>8388</th>\n",
       "      <td>1</td>\n",
       "      <td>1268010</td>\n",
       "      <td>G</td>\n",
       "      <td>T</td>\n",
       "      <td>12</td>\n",
       "      <td>108814</td>\n",
       "      <td>T</td>\n",
       "      <td>missense_variant</td>\n",
       "      <td>MODERATE</td>\n",
       "      <td>ENSG00000169962</td>\n",
       "      <td>...</td>\n",
       "      <td>deleterious(0)</td>\n",
       "      <td>probably_damaging(0.998)</td>\n",
       "      <td>NaN</td>\n",
       "      <td>NaN</td>\n",
       "      <td>NaN</td>\n",
       "      <td>NaN</td>\n",
       "      <td>NaN</td>\n",
       "      <td>0.000110</td>\n",
       "      <td>0.973989</td>\n",
       "      <td>1:1268010</td>\n",
       "    </tr>\n",
       "    <tr>\n",
       "      <th>8474</th>\n",
       "      <td>1</td>\n",
       "      <td>1268388</td>\n",
       "      <td>G</td>\n",
       "      <td>A</td>\n",
       "      <td>88</td>\n",
       "      <td>110786</td>\n",
       "      <td>A</td>\n",
       "      <td>missense_variant</td>\n",
       "      <td>MODERATE</td>\n",
       "      <td>ENSG00000169962</td>\n",
       "      <td>...</td>\n",
       "      <td>tolerated(0.07)</td>\n",
       "      <td>benign(0.284)</td>\n",
       "      <td>NaN</td>\n",
       "      <td>NaN</td>\n",
       "      <td>NaN</td>\n",
       "      <td>NaN</td>\n",
       "      <td>NaN</td>\n",
       "      <td>0.000794</td>\n",
       "      <td>0.991640</td>\n",
       "      <td>1:1268388</td>\n",
       "    </tr>\n",
       "    <tr>\n",
       "      <th>8498</th>\n",
       "      <td>1</td>\n",
       "      <td>1268470</td>\n",
       "      <td>G</td>\n",
       "      <td>A</td>\n",
       "      <td>40</td>\n",
       "      <td>109082</td>\n",
       "      <td>A</td>\n",
       "      <td>missense_variant</td>\n",
       "      <td>MODERATE</td>\n",
       "      <td>ENSG00000169962</td>\n",
       "      <td>...</td>\n",
       "      <td>tolerated(0.21)</td>\n",
       "      <td>benign(0.001)</td>\n",
       "      <td>NaN</td>\n",
       "      <td>NaN</td>\n",
       "      <td>NaN</td>\n",
       "      <td>NaN</td>\n",
       "      <td>NaN</td>\n",
       "      <td>0.000367</td>\n",
       "      <td>0.976387</td>\n",
       "      <td>1:1268470</td>\n",
       "    </tr>\n",
       "  </tbody>\n",
       "</table>\n",
       "<p>5 rows × 21 columns</p>\n",
       "</div>"
      ],
      "text/plain": [
       "     CHROM      POS REF ALT  AC_NFE  AN_NFE Allele       Consequence  \\\n",
       "8128     1  1267040   T   C       2  109110      C  missense_variant   \n",
       "8129     1  1267040   T   G      24  109110      G  missense_variant   \n",
       "8388     1  1268010   G   T      12  108814      T  missense_variant   \n",
       "8474     1  1268388   G   A      88  110786      A  missense_variant   \n",
       "8498     1  1268470   G   A      40  109082      A  missense_variant   \n",
       "\n",
       "        IMPACT             Gene    ...                   SIFT  \\\n",
       "8128  MODERATE  ENSG00000169962    ...         tolerated(0.1)   \n",
       "8129  MODERATE  ENSG00000169962    ...      deleterious(0.05)   \n",
       "8388  MODERATE  ENSG00000169962    ...         deleterious(0)   \n",
       "8474  MODERATE  ENSG00000169962    ...        tolerated(0.07)   \n",
       "8498  MODERATE  ENSG00000169962    ...        tolerated(0.21)   \n",
       "\n",
       "                      PolyPhen CLIN_SIG  LoF LoF_filter LoF_flags LoF_info  \\\n",
       "8128  probably_damaging(0.975)      NaN  NaN        NaN       NaN      NaN   \n",
       "8129             benign(0.284)      NaN  NaN        NaN       NaN      NaN   \n",
       "8388  probably_damaging(0.998)      NaN  NaN        NaN       NaN      NaN   \n",
       "8474             benign(0.284)      NaN  NaN        NaN       NaN      NaN   \n",
       "8498             benign(0.001)      NaN  NaN        NaN       NaN      NaN   \n",
       "\n",
       "        AF_NFE    GP_NFE   position  \n",
       "8128  0.000018  0.976638  1:1267040  \n",
       "8129  0.000220  0.976638  1:1267040  \n",
       "8388  0.000110  0.973989  1:1268010  \n",
       "8474  0.000794  0.991640  1:1268388  \n",
       "8498  0.000367  0.976387  1:1268470  \n",
       "\n",
       "[5 rows x 21 columns]"
      ]
     },
     "execution_count": 15,
     "metadata": {},
     "output_type": "execute_result"
    }
   ],
   "source": [
    "gpcr_ukb.head()"
   ]
  },
  {
   "cell_type": "markdown",
   "metadata": {},
   "source": [
    "I'll calculate the minor allele frequency using the UKB data."
   ]
  },
  {
   "cell_type": "code",
   "execution_count": 16,
   "metadata": {
    "collapsed": false
   },
   "outputs": [],
   "source": [
    "def maf(x):\n",
    "    aa, ab, bb = map(int, x.split('/'))\n",
    "    ac = ab + 2 * bb\n",
    "    an = 2 * (aa + ab + bb)\n",
    "    af = ac / float(an)\n",
    "    if af > 0.5:\n",
    "        af = 1 - af\n",
    "    #return(ac, an, af)\n",
    "    return(af)"
   ]
  },
  {
   "cell_type": "code",
   "execution_count": 17,
   "metadata": {
    "collapsed": false
   },
   "outputs": [
    {
     "name": "stderr",
     "output_type": "stream",
     "text": [
      "/home/groups/mrivas/anaconda/3.5/envs/lof-enrichment/lib/python2.7/site-packages/ipykernel/__main__.py:4: ParserWarning: Falling back to the 'python' engine because the 'c' engine does not support regex separators (separators > 1 char and different from '\\s+' are interpreted as regex); you can avoid this warning by specifying engine='python'.\n"
     ]
    }
   ],
   "source": [
    "hwe_fns = glob.glob('/share/PI/mrivas/data/ukbb/genorate/*hwe')\n",
    "dfs = []\n",
    "for fn in hwe_fns:\n",
    "    dfs.append(pd.read_table(fn, sep=r\"\\s*\"))\n",
    "ukb_hwe = pd.concat(dfs).dropna()"
   ]
  },
  {
   "cell_type": "code",
   "execution_count": 18,
   "metadata": {
    "collapsed": false
   },
   "outputs": [],
   "source": [
    "ukb_hwe['maf'] = ukb_hwe.GENO.apply(lambda x: maf(x))\n",
    "ukb_hwe.index = ukb_hwe['SNP']\n",
    "array_f = array.drop_duplicates(subset=['Affy SNP ID'])\n",
    "array_f.index = array_f['Affy SNP ID']\n",
    "shared_ids = set(array_f.ix[array_f.position.apply(lambda x: x in shared), \n",
    "                            'Affy SNP ID'])\n",
    "ukb_hwe = ukb_hwe.ix[set(ukb_hwe.index) & shared_ids]\n",
    "ukb_hwe['position'] = array_f.ix[ukb_hwe.index, 'position'].values\n"
   ]
  },
  {
   "cell_type": "code",
   "execution_count": 19,
   "metadata": {
    "collapsed": true
   },
   "outputs": [],
   "source": [
    "#sns.set_context('notebook', font_scale=1.5)\n",
    "sns.set_palette(sns.color_palette('colorblind'))"
   ]
  },
  {
   "cell_type": "code",
   "execution_count": 46,
   "metadata": {
    "collapsed": false
   },
   "outputs": [
    {
     "data": {
      "image/png": "[encoded data removed]",
      "text/plain": [
       "<matplotlib.figure.Figure at 0x7fdb58ea8d50>"
      ]
     },
     "metadata": {},
     "output_type": "display_data"
    }
   ],
   "source": [
    "fig, ax = plt.subplots(1, 1, figsize=(2.5, 1.5))\n",
    "se = ukb_hwe.maf\n",
    "se = se[se != 0]\n",
    "np.log10(se).hist(bins=25, ax=ax)\n",
    "ax.set_ylabel('Number of\\nGPCR variants', fontsize=8)\n",
    "ax.set_xlabel('UKB $\\log_{10}$ minor allele frequency', fontsize=8)\n",
    "ax.set_xticks(np.log10(np.array([1e-6, 1e-4, 1e-2, 0.5])))\n",
    "ax.set_xticklabels(['$10^{-6}$', '$10^{-4}$', '$10^{-2}$', '0.5'])\n",
    "for t in ax.get_xticklabels() + ax.get_yticklabels():\n",
    "    t.set_fontsize(8)\n",
    "plt.tight_layout()\n",
    "plt.savefig(os.path.join(outdir, 'gpcr_sfs.pdf'))"
   ]
  },
  {
   "cell_type": "code",
   "execution_count": 21,
   "metadata": {
    "collapsed": false
   },
   "outputs": [
    {
     "data": {
      "text/plain": [
       "(-6, -5]     19\n",
       "(-5, -4]    183\n",
       "(-4, -3]    278\n",
       "(-3, -2]    313\n",
       "(-2, -1]    169\n",
       "(-1, 0]     121\n",
       "Name: maf, dtype: int64"
      ]
     },
     "execution_count": 21,
     "metadata": {},
     "output_type": "execute_result"
    }
   ],
   "source": [
    "pd.cut(np.log10(se), np.arange(-6, 1, 1)).value_counts().sort_index()"
   ]
  },
  {
   "cell_type": "code",
   "execution_count": 22,
   "metadata": {
    "collapsed": false
   },
   "outputs": [
    {
     "data": {
      "text/plain": [
       "(-6, -5]      19\n",
       "(-5, -4]     202\n",
       "(-4, -3]     480\n",
       "(-3, -2]     793\n",
       "(-2, -1]     962\n",
       "(-1, 0]     1083\n",
       "Name: maf, dtype: int64"
      ]
     },
     "execution_count": 22,
     "metadata": {},
     "output_type": "execute_result"
    }
   ],
   "source": [
    "pd.cut(np.log10(se), np.arange(-6, 1, 1)).value_counts().sort_index().cumsum()"
   ]
  },
  {
   "cell_type": "code",
   "execution_count": 23,
   "metadata": {
    "collapsed": false
   },
   "outputs": [
    {
     "data": {
      "text/plain": [
       "True     793\n",
       "False    290\n",
       "Name: maf, dtype: int64"
      ]
     },
     "execution_count": 23,
     "metadata": {},
     "output_type": "execute_result"
    }
   ],
   "source": [
    "(se < 0.01).value_counts()"
   ]
  },
  {
   "cell_type": "code",
   "execution_count": 24,
   "metadata": {
    "collapsed": false
   },
   "outputs": [
    {
     "data": {
      "text/plain": [
       "0.7322253000923361"
      ]
     },
     "execution_count": 24,
     "metadata": {},
     "output_type": "execute_result"
    }
   ],
   "source": [
    "793. / se.shape[0]"
   ]
  },
  {
   "cell_type": "code",
   "execution_count": 28,
   "metadata": {
    "collapsed": false
   },
   "outputs": [
    {
     "data": {
      "text/plain": [
       "0.6112650046168052"
      ]
     },
     "execution_count": 28,
     "metadata": {},
     "output_type": "execute_result"
    }
   ],
   "source": [
    "float((se > 0.000720).sum()) / se.shape[0]"
   ]
  },
  {
   "cell_type": "code",
   "execution_count": 29,
   "metadata": {
    "collapsed": false
   },
   "outputs": [
    {
     "data": {
      "text/plain": [
       "0.8550323176361958"
      ]
     },
     "execution_count": 29,
     "metadata": {},
     "output_type": "execute_result"
    }
   ],
   "source": [
    "float((se > 0.000075).sum()) / se.shape[0]"
   ]
  },
  {
   "cell_type": "code",
   "execution_count": null,
   "metadata": {
    "collapsed": true
   },
   "outputs": [],
   "source": []
  },
  {
   "cell_type": "code",
   "execution_count": null,
   "metadata": {
    "collapsed": true
   },
   "outputs": [],
   "source": []
  },
  {
   "cell_type": "code",
   "execution_count": 26,
   "metadata": {
    "collapsed": false
   },
   "outputs": [
    {
     "ename": "SyntaxError",
     "evalue": "invalid syntax (<ipython-input-26-4715fb1d5390>, line 1)",
     "output_type": "error",
     "traceback": [
      "\u001b[0;36m  File \u001b[0;32m\"<ipython-input-26-4715fb1d5390>\"\u001b[0;36m, line \u001b[0;32m1\u001b[0m\n\u001b[0;31m    3 +\u001b[0m\n\u001b[0m        ^\u001b[0m\n\u001b[0;31mSyntaxError\u001b[0m\u001b[0;31m:\u001b[0m invalid syntax\n"
     ]
    }
   ],
   "source": [
    "3 + "
   ]
  },
  {
   "cell_type": "markdown",
   "metadata": {},
   "source": [
    "## GPCR Variants in LD with Array Variants\n",
    "\n",
    "Ths code in the next cell takes about an hour to run. \n",
    "TODO: I'll need to update the code below when I get the new all-pairs LD\n",
    "files."
   ]
  },
  {
   "cell_type": "code",
   "execution_count": null,
   "metadata": {
    "collapsed": true
   },
   "outputs": [],
   "source": [
    "ld = {}\n",
    "for i,v in enumerate(not_on_array):\n",
    "    chrom, pos = v.split(':')\n",
    "    fn = ('/oak/stanford/groups/mrivas/public_data/1000genomes_20170416/'\n",
    "          'ld_20170519/EUR/chrom{}_EUR.ld.gz'.format(chrom))\n",
    "    res = subprocess.check_output('tabix {} {}:{}-{}'.format(fn, chrom, pos, pos),\n",
    "                                  shell=True)\n",
    "    if len(res) > 0:\n",
    "        ld[v] = res"
   ]
  },
  {
   "cell_type": "code",
   "execution_count": null,
   "metadata": {
    "collapsed": true
   },
   "outputs": [],
   "source": [
    "def parse_ld_results(vals):\n",
    "    lines = vals.strip().split('\\n')\n",
    "    lines = [x.split() for x in lines]\n",
    "    columns = ['chrom1', 'pos1', 'name1', 'maf1', 'chrom2', 'pos2', 'name2', 'maf2', 'r2']\n",
    "    tt = pd.DataFrame(lines, columns=columns)#, dtype=dtype)\n",
    "    for i in ['pos1', 'pos2']:\n",
    "        tt[i] = tt[i].astype(int)\n",
    "    for i in ['maf1', 'maf2', 'r2']:\n",
    "        tt[i] = tt[i].astype(float)\n",
    "    tt['position1'] = tt['chrom1'] + ':' + tt['pos1'].astype(str)\n",
    "    tt['position2'] = tt['chrom2'] + ':' + tt['pos2'].astype(str)\n",
    "    return tt"
   ]
  },
  {
   "cell_type": "code",
   "execution_count": null,
   "metadata": {
    "collapsed": false
   },
   "outputs": [],
   "source": [
    "ld_parsed = {}\n",
    "for k in ld.keys():\n",
    "    ld_parsed[k] = parse_ld_results(ld[k])\n",
    "    ld_parsed[k] = ld_parsed[k][ld_parsed[k]['r2'] > 0.8]"
   ]
  },
  {
   "cell_type": "code",
   "execution_count": null,
   "metadata": {
    "collapsed": false
   },
   "outputs": [],
   "source": [
    "s = set(array_snps.position)\n",
    "in_ld = []\n",
    "in_ld_parsed = {}\n",
    "in_ld_max = []\n",
    "for k in ld_parsed.keys():\n",
    "    overlap = set(ld_parsed[k]['position2']) & s\n",
    "    if len(overlap) > 0:\n",
    "        in_ld.append(k)\n",
    "        in_ld_parsed[k] = ld_parsed[k][ld_parsed[k]['position2'].apply(lambda x: x in s)]\n",
    "        in_ld_max.append(in_ld_parsed[k]['r2'].max())\n",
    "print('{:,} additional variants in high LD (> 0.8) with array SNPs.'.format(\n",
    "    len(in_ld)))"
   ]
  },
  {
   "cell_type": "code",
   "execution_count": null,
   "metadata": {
    "collapsed": true
   },
   "outputs": [],
   "source": []
  },
  {
   "cell_type": "code",
   "execution_count": null,
   "metadata": {
    "collapsed": false
   },
   "outputs": [],
   "source": [
    "in_ld_max"
   ]
  },
  {
   "cell_type": "code",
   "execution_count": null,
   "metadata": {
    "collapsed": true
   },
   "outputs": [],
   "source": []
  }
 ],
 "metadata": {
  "hide_input": false,
  "kernelspec": {
   "display_name": "Python 2",
   "language": "python",
   "name": "python2"
  },
  "language_info": {
   "codemirror_mode": {
    "name": "ipython",
    "version": 2
   },
   "file_extension": ".py",
   "mimetype": "text/x-python",
   "name": "python",
   "nbconvert_exporter": "python",
   "pygments_lexer": "ipython2",
   "version": "2.7.13"
  },
  "latex_envs": {
   "LaTeX_envs_menu_present": true,
   "autocomplete": true,
   "bibliofile": "biblio.bib",
   "cite_by": "apalike",
   "current_citInitial": 1,
   "eqLabelWithNumbers": true,
   "eqNumInitial": 1,
   "hotkeys": {
    "equation": "Ctrl-E",
    "itemize": "Ctrl-I"
   },
   "labels_anchors": false,
   "latex_user_defs": false,
   "report_style_numbering": false,
   "user_envs_cfg": false
  },
  "toc": {
   "colors": {
    "hover_highlight": "#DAA520",
    "navigate_num": "#000000",
    "navigate_text": "#333333",
    "running_highlight": "#FF0000",
    "selected_highlight": "#FFD700",
    "sidebar_border": "#EEEEEE",
    "wrapper_background": "#FFFFFF"
   },
   "moveMenuLeft": true,
   "nav_menu": {
    "height": "30px",
    "width": "252px"
   },
   "navigate_menu": true,
   "number_sections": true,
   "sideBar": true,
   "threshold": 4,
   "toc_cell": false,
   "toc_section_display": "block",
   "toc_window_display": false,
   "widenNotebook": false
  }
 },
 "nbformat": 4,
 "nbformat_minor": 2
}
