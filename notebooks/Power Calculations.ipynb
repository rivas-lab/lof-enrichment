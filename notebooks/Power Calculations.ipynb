{
 "cells": [
  {
   "cell_type": "markdown",
   "metadata": {},
   "source": [
    "# Power Calculations"
   ]
  },
  {
   "cell_type": "code",
   "execution_count": 1,
   "metadata": {
    "collapsed": true
   },
   "outputs": [],
   "source": [
    "import cPickle\n",
    "import os\n",
    "\n",
    "import gdpy\n",
    "import matplotlib as mpl\n",
    "import matplotlib.gridspec as gridspec\n",
    "import matplotlib.pyplot as plt\n",
    "import numpy as np\n",
    "import pandas as pd\n",
    "import rpy2.robjects as robjects\n",
    "from rpy2.robjects import pandas2ri\n",
    "pandas2ri.activate()\n",
    "from rpy2.robjects import r\n",
    "import scipy.stats as stats\n",
    "import seaborn as sns\n",
    "plt.rcParams['font.sans-serif'] = ['Helvetica'] + plt.rcParams['font.sans-serif']\n",
    "\n",
    "from IPython.display import display, HTML\n",
    "\n",
    "%matplotlib inline\n",
    "%load_ext rpy2.ipython\n",
    "\n",
    "outdir = '../output/power_calculations'\n",
    "if not os.path.exists(outdir):\n",
    "    os.makedirs(outdir)\n",
    "private_outdir = '../private_output/power_calculations'\n",
    "if not os.path.exists(private_outdir):\n",
    "    os.makedirs(private_outdir)"
   ]
  },
  {
   "cell_type": "code",
   "execution_count": 2,
   "metadata": {
    "collapsed": true
   },
   "outputs": [],
   "source": [
    "# Read Gencode gene annotation table.\n",
    "fn = '/srv/gsfs0/projects/rivas/data/gencode.v19_20170302/parsing/gencode.v19.annotation.table.tsv'\n",
    "if not os.path.exists(fn):\n",
    "    fn = '/oak/stanford/groups/mrivas/public_data/gencode.v19_20170526/parsing/gencode.v19.annotation.table.tsv'\n",
    "gtable = pd.read_table(fn, index_col=0)\n",
    "gtable['gencode_id'] = gtable.index\n",
    "gtable.index = [x.split('.')[0] for x in gtable.index]\n",
    "\n",
    "# Read LoF gene table.\n",
    "lof_gene = pd.read_table('../output/lof_enrichment_analysis/lof_gene.tsv',\n",
    "                         index_col=0)"
   ]
  },
  {
   "cell_type": "markdown",
   "metadata": {},
   "source": [
    "## Power Calculations\n",
    "\n",
    "I'm going to calculate the power to detect an LoF association for each gene in \n",
    "each population under a particular experimental design. Then I will\n",
    "add annotation for the genes. I'm going to drop the `OTH` population because\n",
    "it's not represenative of any real population."
   ]
  },
  {
   "cell_type": "code",
   "execution_count": 3,
   "metadata": {
    "collapsed": false
   },
   "outputs": [],
   "source": [
    "fn = os.path.join(outdir, 'lof_gene_power.tsv')\n",
    "if not os.path.exists(fn):\n",
    "    pops = [x[3:] for x in lof_gene.columns if x[0:3] == 'AF_']\n",
    "    for pop in pops:\n",
    "        for rr in [2, 4]:\n",
    "            power = []\n",
    "            for gene in lof_gene.index:\n",
    "                af = lof_gene.ix[gene, 'AF_{}'.format(pop)]\n",
    "                if af == 0:\n",
    "                    power.append(0)\n",
    "                else:\n",
    "                    power.append(gdpy.gpc_default(af, rr, 0.1, 25000, 0.5, \n",
    "                                                  alpha=2e-6, unselected=True))\n",
    "            lof_gene['power_rr{}_{}'.format(rr, pop)] = power\n",
    "    lof_gene.to_csv(fn, sep='\\t')"
   ]
  },
  {
   "cell_type": "raw",
   "metadata": {
    "collapsed": true
   },
   "source": [
    "gsp_diseases = ['coronary artery disease', 'inflammatory bowel disease', 'type 1 diabetes mellitus',\n",
    "                'asthma', 'epilepsy syndrome', 'autistic disorder']\n",
    "\n",
    "power_cols0 = ['{}_rr2'.format(x) for x in ppops]\n",
    "power_cols1 = ['{}_rr4'.format(x) for x in ppops]\n",
    "power_cols = power_cols0 + power_cols1\n",
    "\n",
    "cols = (['num_genes'] + \n",
    "        ['{}_50'.format(x) for x in power_cols] + \n",
    "        ['{}_80'.format(x) for x in power_cols] + \n",
    "        ['{}_50_percent'.format(x) for x in power_cols] + \n",
    "        ['{}_80_percent'.format(x) for x in power_cols])\n",
    "out = pd.DataFrame(index=gsp_diseases, columns=cols)\n",
    "\n",
    "writer = pd.ExcelWriter(os.path.join(outdir, 'gsp_diseases.xlsx'))\n",
    "for c in gsp_diseases:\n",
    "    \n",
    "    t = gwas_genes_power.ix[gwas_genes_power[c] == 1, power_cols0]\n",
    "    out.ix[c, 'num_genes'] = t.shape[0]\n",
    "    se = (t > 0.5).sum()\n",
    "    out.ix[c, ['{}_50'.format(x) for x in se.index]] = se.values    \n",
    "    out.ix[c, ['{}_50_percent'.format(x) for x in se.index]] = (se.values / float(t.shape[0])).round(3)\n",
    "    se = (t > 0.8).sum()\n",
    "    out.ix[c, ['{}_80'.format(x) for x in se.index]] = se.values\n",
    "    out.ix[c, ['{}_80_percent'.format(x) for x in se.index]] = (se.values / float(t.shape[0])).round(3)\n",
    "    \n",
    "    t = gwas_genes_power.ix[gwas_genes_power[c] == 1, power_cols1]\n",
    "    se = (t > 0.5).sum()\n",
    "    out.ix[c, ['{}_50'.format(x) for x in se.index]] = se.values    \n",
    "    out.ix[c, ['{}_50_percent'.format(x) for x in se.index]] = (se.values / float(t.shape[0])).round(3)\n",
    "    se = (t > 0.8).sum()\n",
    "    out.ix[c, ['{}_80'.format(x) for x in se.index]] = se.values\n",
    "    out.ix[c, ['{}_80_percent'.format(x) for x in se.index]] = (se.values / float(t.shape[0])).round(3)\n",
    "    \n",
    "    t = gwas_genes_power.ix[gwas_genes_power[c] == 1, \n",
    "                            power_cols].sort_index()\n",
    "    t.to_excel(writer, c)\n",
    "out.T.to_csv(os.path.join(outdir, 'gsp_num_powered.tsv'), sep='\\t')\n",
    "gsp_power = out.T.copy(deep=True)\n",
    "writer.save()"
   ]
  },
  {
   "cell_type": "raw",
   "metadata": {},
   "source": [
    "tdf = gwas_genes_power[gwas_genes_power[gsp_diseases].sum(axis=1) > 0]\n",
    "tdf = tdf[tdf.AF_AMR > 0]\n",
    "a = tdf[tdf['NFE_rr4'] > tdf['AMR_rr4']]\n",
    "b = tdf[tdf['NFE_rr4'] < tdf['AMR_rr4']]\n",
    "\n",
    "fig = plt.figure(figsize=(7, 7))\n",
    "gs = gridspec.GridSpec(2, 1, height_ratios=[0.95, 0.05])\n",
    "\n",
    "ax = fig.add_subplot(gs[0, 0])\n",
    "ax.set_xlabel('Power in Europeans')\n",
    "ax.set_ylabel('Power in Latinos')\n",
    "ax.add_patch(mpl.patches.Rectangle((0, 0.8), 0.8, 0.2, color=sns.color_palette()[3], alpha=0.25, zorder=1))\n",
    "ax.add_patch(mpl.patches.Rectangle((0.8, 0), 0.2, 0.8, color=sns.color_palette()[4], alpha=0.25, zorder=1))\n",
    "ax.add_patch(mpl.patches.Rectangle((0.8, 0.8), 0.2, 0.2, color=sns.color_palette()[5], alpha=0.25, zorder=1))\n",
    "ax.scatter(a['NFE_rr4'], a['AMR_rr4'], alpha=0.75, zorder=2)\n",
    "ax.scatter(b['NFE_rr4'], b['AMR_rr4'], alpha=0.75, zorder=2)\n",
    "ax.set_title('Power to detect gene-disease associations')\n",
    "ax.plot([0, 1], [0, 1], color='grey', ls='--')\n",
    "\n",
    "ax = fig.add_subplot(gs[1, 0])\n",
    "ax.get_xaxis().set_ticks([])\n",
    "ax.get_yaxis().set_ticks([])\n",
    "for sp in ax.spines.values():\n",
    "    sp.set_visible(False)\n",
    "ax.set_facecolor('white')\n",
    "rects = [plt.Rectangle((0, 0), 0, 0, fc=sns.color_palette()[3]), \n",
    "         plt.Rectangle((0, 0), 0, 0, fc=sns.color_palette()[4]),\n",
    "         plt.Rectangle((0, 0), 0, 0, fc=sns.color_palette()[5])]\n",
    "lgd = ax.legend(rects, ['Powered in Latinos', 'Powered in Europeans', 'Powered in both'], \n",
    "                loc='upper center', frameon=False, prop={'size':16}, ncol=2)\n",
    "\n",
    "gs.tight_layout(fig, rect = [0, 0.1, 1, 1])\n",
    "plt.savefig(os.path.join(outdir, 'gene_disease_assoc_power.pdf'))"
   ]
  }
 ],
 "metadata": {
  "hide_input": false,
  "kernelspec": {
   "display_name": "Python 2",
   "language": "python",
   "name": "python2"
  },
  "language_info": {
   "codemirror_mode": {
    "name": "ipython",
    "version": 2
   },
   "file_extension": ".py",
   "mimetype": "text/x-python",
   "name": "python",
   "nbconvert_exporter": "python",
   "pygments_lexer": "ipython2",
   "version": "2.7.13"
  },
  "latex_envs": {
   "LaTeX_envs_menu_present": true,
   "autocomplete": true,
   "bibliofile": "biblio.bib",
   "cite_by": "apalike",
   "current_citInitial": 1,
   "eqLabelWithNumbers": true,
   "eqNumInitial": 1,
   "hotkeys": {
    "equation": "Ctrl-E",
    "itemize": "Ctrl-I"
   },
   "labels_anchors": false,
   "latex_user_defs": false,
   "report_style_numbering": false,
   "user_envs_cfg": false
  },
  "toc": {
   "colors": {
    "hover_highlight": "#DAA520",
    "navigate_num": "#000000",
    "navigate_text": "#333333",
    "running_highlight": "#FF0000",
    "selected_highlight": "#FFD700",
    "sidebar_border": "#EEEEEE",
    "wrapper_background": "#FFFFFF"
   },
   "moveMenuLeft": true,
   "nav_menu": {
    "height": "120px",
    "width": "252px"
   },
   "navigate_menu": true,
   "number_sections": true,
   "sideBar": true,
   "threshold": 4,
   "toc_cell": false,
   "toc_section_display": "block",
   "toc_window_display": false,
   "widenNotebook": false
  }
 },
 "nbformat": 4,
 "nbformat_minor": 2
}
