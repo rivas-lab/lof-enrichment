{
 "cells": [
  {
   "cell_type": "markdown",
   "metadata": {},
   "source": [
    "# gnomAD Analysis\n",
    "\n",
    "We'd like to estimate what genes are enriched for loss of function (LoF) variants\n",
    "in specific GnomAD populations relative to non-Finnish Europeans (NFE). Since we \n",
    "are interested in LoF variants, I'm looking at the GnomAD exome VCF file.\n",
    "\n",
    "We'll use the PIEMM model introduced in http://biorxiv.org/content/early/2016/09/25/077180. "
   ]
  },
  {
   "cell_type": "code",
   "execution_count": 1,
   "metadata": {
    "collapsed": false
   },
   "outputs": [],
   "source": [
    "import cPickle\n",
    "import os\n",
    "\n",
    "import matplotlib as mpl\n",
    "\n",
    "import matplotlib.gridspec as gridspec\n",
    "import matplotlib.pyplot as plt\n",
    "import numpy as np\n",
    "import pandas as pd\n",
    "import rpy2.robjects as robjects\n",
    "from rpy2.robjects import pandas2ri\n",
    "pandas2ri.activate()\n",
    "from rpy2.robjects import r\n",
    "import scipy.stats as stats\n",
    "import seaborn as sns\n",
    "plt.rcParams['font.sans-serif'] = ['Helvetica'] + plt.rcParams['font.sans-serif']\n",
    "\n",
    "from IPython.display import display, HTML\n",
    "\n",
    "%matplotlib inline\n",
    "%load_ext rpy2.ipython\n",
    "\n",
    "outdir = '../output/gnomad_analysis'\n",
    "if not os.path.exists(outdir):\n",
    "    os.makedirs(outdir)\n",
    "private_outdir = '../private_output/gnomad_analysis'\n",
    "if not os.path.exists(private_outdir):\n",
    "    os.makedirs(private_outdir)"
   ]
  },
  {
   "cell_type": "code",
   "execution_count": 3,
   "metadata": {
    "collapsed": false
   },
   "outputs": [],
   "source": [
    "fn = '/srv/gsfs0/projects/rivas/data/gencode.v19_20170302/parsing/gencode.v19.annotation.table.tsv'\n",
    "gtable = pd.read_table(fn, index_col=0)\n",
    "gtable['gencode_id'] = gtable.index\n",
    "gtable.index = [x.split('.')[0] for x in gtable.index]\n",
    "\n",
    "fn = '/srv/gsfs0/projects/rivas/data/gnomad_170228_20170228/parsing/gnomad.exomes.r2.0.1.sites.tsv'\n",
    "cols = {'CHROM':str, 'POS':int, 'REF':str, 'ALT':str, 'AC_AFR':int, 'AC_AMR':int, \n",
    "        'AC_ASJ':int, 'AC_EAS':int, 'AC_FIN':int, 'AC_NFE':int, 'AC_OTH':int, \n",
    "        'AC_SAS':int, 'AN_AFR':int, 'AN_AMR':int, 'AN_ASJ':int, 'AN_EAS':int, \n",
    "        'AN_FIN':int, 'AN_NFE':int, 'AN_OTH':int, 'AN_SAS':int, 'Allele':str,\n",
    "        'Consequence':str, 'IMPACT':str, 'Gene':str, 'BIOTYPE':str, 'SIFT':str, \n",
    "        'PolyPhen':str, 'CLIN_SIG':str, 'LoF':str, 'LoF_filter':str, \n",
    "        'LoF_flags':str, 'LoF_info':str}\n",
    "cols_to_read = set(cols.keys())\n",
    "cols_to_read -= set(['Allele', 'BIOTYPE'])\n",
    "vrs = pd.read_table(fn,\n",
    "                    dtype={'CHROM':str, 'POS':int, 'REF':str, 'ALT':str, 'AC_AFR':int, 'AC_AMR':int, \n",
    "                           'AC_ASJ':int, 'AC_EAS':int, 'AC_FIN':int, 'AC_NFE':int, 'AC_OTH':int, \n",
    "                           'AC_SAS':int, 'AN_AFR':int, 'AN_AMR':int, 'AN_ASJ':int, 'AN_EAS':int, \n",
    "                           'AN_FIN':int, 'AN_NFE':int, 'AN_OTH':int, 'AN_SAS':int, 'Allele':str,\n",
    "                           'Consequence':str, 'IMPACT':str, 'Gene':str, 'BIOTYPE':str, 'SIFT':str, \n",
    "                           'PolyPhen':str, 'CLIN_SIG':str, 'LoF':str, 'LoF_filter':str, \n",
    "                           'LoF_flags':str, 'LoF_info':str},\n",
    "                    usecols=cols_to_read)\n",
    "pops = [x.split('_')[1] for x in vrs.columns if 'AC_' in x]\n",
    "for pop in pops:\n",
    "    vrs['AF_{}'.format(pop)] = vrs['AC_{}'.format(pop)].astype(float) / vrs['AN_{}'.format(pop)]"
   ]
  },
  {
   "cell_type": "code",
   "execution_count": 4,
   "metadata": {
    "collapsed": true
   },
   "outputs": [],
   "source": [
    "# Maximum number of chromosomes genotyped per population.\n",
    "pop_max = vrs[['AN_{}'.format(x) for x in pops]].max()\n",
    "pop_max.index = [x.split('_')[1] for x in pop_max.index]"
   ]
  },
  {
   "cell_type": "code",
   "execution_count": 5,
   "metadata": {
    "collapsed": false
   },
   "outputs": [],
   "source": [
    "pops = [x.split('_')[1] for x in vrs.columns if 'AC_' in x]\n",
    "for pop in pops:\n",
    "    vrs['AF_{}'.format(pop)] = vrs['AC_{}'.format(pop)].astype(float) / vrs['AN_{}'.format(pop)]\n",
    "    \n",
    "for pop in pops:\n",
    "    vrs['GP_{}'.format(pop)] = vrs['AN_{}'.format(pop)].astype(float) / pop_max[pop]\n",
    "    \n",
    "lof_only = vrs.dropna(subset=['LoF'])"
   ]
  },
  {
   "cell_type": "markdown",
   "metadata": {},
   "source": [
    "## Explore GnomAD Variants\n",
    "\n",
    "Let's explore the VCF a bit."
   ]
  },
  {
   "cell_type": "code",
   "execution_count": 6,
   "metadata": {
    "collapsed": false
   },
   "outputs": [
    {
     "name": "stdout",
     "output_type": "stream",
     "text": [
      "13,717,608 total variants.\n",
      "32,550 distinct genes.\n",
      "496,725 LoF variants.\n",
      "460,495 HC and 36,230 LC LoF variants.\n",
      "Populations: AFR, AMR, ASJ, EAS, FIN, NFE, OTH, SAS\n"
     ]
    }
   ],
   "source": [
    "print('{:,} total variants.'.format(vrs.shape[0]))\n",
    "gene_vc = vrs.Gene.value_counts()\n",
    "print('{:,} distinct genes.'.format(gene_vc.shape[0]))\n",
    "lof_only = vrs.dropna(subset=['LoF'])\n",
    "print('{:,} LoF variants.'.format(lof_only.shape[0]))\n",
    "vc = lof_only.LoF.value_counts()\n",
    "print('{:,} HC and {:,} LC LoF variants.'.format(vc['HC'], vc['LC']))\n",
    "print('Populations: {}'.format(', '.join(pops)))"
   ]
  },
  {
   "cell_type": "code",
   "execution_count": 7,
   "metadata": {
    "collapsed": false
   },
   "outputs": [
    {
     "data": {
      "image/png": "[encoded data removed]",
      "text/plain": [
       "<matplotlib.figure.Figure at 0x2b3e342e7bd0>"
      ]
     },
     "metadata": {},
     "output_type": "display_data"
    }
   ],
   "source": [
    "gene_vc.hist(bins=100, log=True)\n",
    "plt.ylabel('Number of genes')\n",
    "plt.xlabel('Number of distinct variants');"
   ]
  },
  {
   "cell_type": "code",
   "execution_count": 8,
   "metadata": {
    "collapsed": false
   },
   "outputs": [
    {
     "data": {
      "image/png": "[encoded data removed]",
      "text/plain": [
       "<matplotlib.figure.Figure at 0x2b3e620626d0>"
      ]
     },
     "metadata": {},
     "output_type": "display_data"
    }
   ],
   "source": [
    "lof_only.Gene.value_counts().hist(bins=100, log=True)\n",
    "plt.ylabel('Number of genes')\n",
    "plt.xlabel('Number of distinct LoF variants');"
   ]
  },
  {
   "cell_type": "markdown",
   "metadata": {},
   "source": [
    "We can see that most genes have less than 200 LoF variants."
   ]
  },
  {
   "cell_type": "code",
   "execution_count": 9,
   "metadata": {
    "collapsed": false
   },
   "outputs": [
    {
     "data": {
      "text/plain": [
       "missense_variant                      5168333\n",
       "intron_variant                        3398408\n",
       "synonymous_variant                    2370523\n",
       "non_coding_transcript_exon_variant     750539\n",
       "splice_region_variant                  579445\n",
       "3_prime_UTR_variant                    436885\n",
       "5_prime_UTR_variant                    287302\n",
       "frameshift_variant                     245232\n",
       "stop_gained                            163346\n",
       "inframe_deletion                        79711\n",
       "splice_donor_variant                    58951\n",
       "splice_acceptor_variant                 49120\n",
       "upstream_gene_variant                   38704\n",
       "inframe_insertion                       28786\n",
       "start_lost                              19174\n",
       "downstream_gene_variant                 15079\n",
       "stop_lost                               11022\n",
       "intergenic_variant                       5320\n",
       "stop_retained_variant                    3827\n",
       "mature_miRNA_variant                     3398\n",
       "coding_sequence_variant                  1569\n",
       "protein_altering_variant                 1353\n",
       "regulatory_region_variant                1174\n",
       "incomplete_terminal_codon_variant         332\n",
       "TF_binding_site_variant                    19\n",
       "non_coding_transcript_variant               6\n",
       "transcript_ablation                         6\n",
       "TFBS_ablation                               1\n",
       "Name: Consequence, dtype: int64"
      ]
     },
     "execution_count": 9,
     "metadata": {},
     "output_type": "execute_result"
    }
   ],
   "source": [
    "vrs.Consequence.value_counts()"
   ]
  },
  {
   "cell_type": "code",
   "execution_count": 10,
   "metadata": {
    "collapsed": true
   },
   "outputs": [],
   "source": [
    "mis_only = vrs[vrs.Consequence == 'missense_variant']"
   ]
  },
  {
   "cell_type": "code",
   "execution_count": 11,
   "metadata": {
    "collapsed": false
   },
   "outputs": [
    {
     "data": {
      "image/png": "[encoded data removed]",
      "text/plain": [
       "<matplotlib.figure.Figure at 0x2b3e60f95590>"
      ]
     },
     "metadata": {},
     "output_type": "display_data"
    }
   ],
   "source": [
    "mis_only.AF_NFE.hist(bins=np.arange(0, 1.01, 0.01), log=True)\n",
    "plt.title('Missense variant frequency spectrum')\n",
    "plt.ylabel('Number of variants')\n",
    "plt.xlabel('Alternate allele frequency');"
   ]
  },
  {
   "cell_type": "code",
   "execution_count": null,
   "metadata": {
    "collapsed": true
   },
   "outputs": [],
   "source": [
    "kjj"
   ]
  }
 ],
 "metadata": {
  "anaconda-cloud": {},
  "kernelspec": {
   "display_name": "Python 2",
   "language": "python",
   "name": "python2"
  },
  "language_info": {
   "codemirror_mode": {
    "name": "ipython",
    "version": 2
   },
   "file_extension": ".py",
   "mimetype": "text/x-python",
   "name": "python",
   "nbconvert_exporter": "python",
   "pygments_lexer": "ipython2",
   "version": "2.7.13"
  }
 },
 "nbformat": 4,
 "nbformat_minor": 1
}
